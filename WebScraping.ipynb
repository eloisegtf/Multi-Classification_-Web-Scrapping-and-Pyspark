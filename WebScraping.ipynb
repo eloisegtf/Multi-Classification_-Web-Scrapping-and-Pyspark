{
 "cells": [
  {
   "cell_type": "markdown",
   "id": "84213e85",
   "metadata": {},
   "source": [
    "\n",
    "<b><FONT size=\"6\" color='#884846'>Projet Python Avance </FONT>"
   ]
  },
  {
   "cell_type": "markdown",
   "id": "9a7817da",
   "metadata": {},
   "source": [
    "<b><FONT size=\"4\" color='#595949'>Fancello Marie Clara, Germini Eva, Gutfreund Eloise"
   ]
  },
  {
   "cell_type": "markdown",
   "id": "a0e33988",
   "metadata": {},
   "source": [
    "<b><FONT size=\"5\" color='#884846'>Web scraping </FONT>"
   ]
  },
  {
   "cell_type": "markdown",
   "id": "65997016",
   "metadata": {},
   "source": [
    "<b><FONT size=\"4\" color='#858846'>Importation des librairies</FONT>"
   ]
  },
  {
   "cell_type": "code",
   "execution_count": 1,
   "id": "2d5b2f2f",
   "metadata": {},
   "outputs": [],
   "source": [
    "import pandas as pd\n",
    "import warnings\n",
    "warnings.filterwarnings(\"ignore\")\n",
    "\n",
    "# Import pour le webscaping \n",
    "from lxml import html\n",
    "import requests\n",
    "from unidecode import unidecode\n",
    "import unicodedata\n",
    "from bs4 import BeautifulSoup\n",
    "import re\n",
    "import urllib\n",
    "from IPython.display import Image \n",
    "\n",
    "# Pour le modèle logit  : \n",
    "from sklearn.linear_model import LogisticRegression\n",
    "from sklearn.model_selection import KFold\n",
    "from sklearn.model_selection import cross_validate\n",
    "from sklearn.model_selection import GridSearchCV\n",
    "\n",
    "# Pour le modèle random forest : \n",
    "from sklearn.ensemble import RandomForestClassifier\n",
    "\n",
    "# Pour le score \n",
    "from sklearn.metrics import accuracy_score"
   ]
  },
  {
   "cell_type": "markdown",
   "id": "66c4f979",
   "metadata": {},
   "source": [
    "<b><FONT size=\"4\" color='#858846'>Recuperation des URL </FONT>"
   ]
  },
  {
   "cell_type": "markdown",
   "id": "cd4f1022",
   "metadata": {},
   "source": [
    "Nous avons choisi de traiter les bijoux pour femmes de chez histoire d'or. "
   ]
  },
  {
   "cell_type": "code",
   "execution_count": 2,
   "id": "f610480c",
   "metadata": {},
   "outputs": [],
   "source": [
    "#Liste vide d'URL\n",
    "article_url = []\n",
    "#Initialisation de la boucle \n",
    "start = 0\n",
    "\n",
    "for start in range(0, 3000, 26):\n",
    "    start = start+1\n",
    "    url = f\"https://www.histoiredor.com/on/demandware.store/Sites-HO-COM-Site/fr_FR/Search-UpdateGrid?cgid=20296&prefn1=THOM-genre&prefv1=Femme&start={start}&sz=24\"\n",
    "    soup = BeautifulSoup(urllib.request.urlopen(url))\n",
    "     #on récupère des url\n",
    "    for a in soup.find_all('a', class_=\"c-product-tile__name-link\"): \n",
    "        article_url.append(a['href'])"
   ]
  },
  {
   "cell_type": "code",
   "execution_count": 3,
   "id": "a2071df5",
   "metadata": {},
   "outputs": [
    {
     "data": {
      "text/plain": [
       "2784"
      ]
     },
     "execution_count": 3,
     "metadata": {},
     "output_type": "execute_result"
    }
   ],
   "source": [
    "#Taille de la liste \n",
    "len(article_url)"
   ]
  },
  {
   "cell_type": "markdown",
   "id": "7ff308d9",
   "metadata": {},
   "source": [
    "<b><FONT size=\"4\" color='#858846'>Carateristiques des produits </FONT>"
   ]
  },
  {
   "cell_type": "code",
   "execution_count": 4,
   "id": "cb507ab5",
   "metadata": {},
   "outputs": [],
   "source": [
    "#Listes vides regroupant les informations par articles \n",
    "liste_descp = []\n",
    "liste_titre = []\n",
    "liste_prix = []\n",
    "\n",
    "for url in article_url:\n",
    "    page = requests.get(\"https://www.histoiredor.com\"+url) #ouvrir l'url \n",
    "    soup = BeautifulSoup(page.content, \"html.parser\")\n",
    "    tree = html.fromstring(page.content)\n",
    "    \n",
    "    #Titre de l'article\n",
    "    titre = tree.xpath('//div[@data-component=\"product-name\"]/text()')\n",
    "    liste_titre.append(titre)\n",
    "    \n",
    "    #Prix de l'article\n",
    "    prix = soup.find(\"span\", class_=\"c-price__standard\")\n",
    "    a = prix['content']\n",
    "    liste_prix.append(a)\n",
    "    \n",
    "    #Description détaillee de l'article \n",
    "    nom = soup.find_all(\"span\",class_=\"c-product__attributes__label\")\n",
    "    value = soup.find_all(\"span\",class_=\"c-product__attributes__value\")\n",
    "    dictionnaire = dict(zip(nom, value))\n",
    "    string = str(dictionnaire)\n",
    "    string = re.sub(r'(\\n)', '', string)\n",
    "    liste_descp.append(string)"
   ]
  },
  {
   "cell_type": "code",
   "execution_count": 5,
   "id": "691dff08",
   "metadata": {},
   "outputs": [],
   "source": [
    "#Creation d'une base de donnees a partir des elements \"parses\"\n",
    "df_article = pd.DataFrame(list(zip(liste_titre,liste_prix,liste_descp)),\n",
    "                               columns = ['article', 'prix','description'])"
   ]
  },
  {
   "cell_type": "code",
   "execution_count": 6,
   "id": "ce84a0f8",
   "metadata": {},
   "outputs": [
    {
     "data": {
      "text/html": [
       "<div>\n",
       "<style scoped>\n",
       "    .dataframe tbody tr th:only-of-type {\n",
       "        vertical-align: middle;\n",
       "    }\n",
       "\n",
       "    .dataframe tbody tr th {\n",
       "        vertical-align: top;\n",
       "    }\n",
       "\n",
       "    .dataframe thead th {\n",
       "        text-align: right;\n",
       "    }\n",
       "</style>\n",
       "<table border=\"1\" class=\"dataframe\">\n",
       "  <thead>\n",
       "    <tr style=\"text-align: right;\">\n",
       "      <th></th>\n",
       "      <th>article</th>\n",
       "      <th>prix</th>\n",
       "      <th>description</th>\n",
       "    </tr>\n",
       "  </thead>\n",
       "  <tbody>\n",
       "    <tr>\n",
       "      <th>2779</th>\n",
       "      <td>[\\nBague Anja Or Blanc Rubis Et Diamant\\n]</td>\n",
       "      <td>360.00</td>\n",
       "      <td>{&lt;span class=\"c-product__attributes__label\"&gt;Ge...</td>\n",
       "    </tr>\n",
       "    <tr>\n",
       "      <th>2780</th>\n",
       "      <td>[\\nBague Solitaire Victoria Or Blanc Diamant\\n]</td>\n",
       "      <td>590.00</td>\n",
       "      <td>{&lt;span class=\"c-product__attributes__label\"&gt;Ge...</td>\n",
       "    </tr>\n",
       "    <tr>\n",
       "      <th>2781</th>\n",
       "      <td>[\\nCréoles Telya Lisses Fil Carre Or Jaune\\n]</td>\n",
       "      <td>99.00</td>\n",
       "      <td>{&lt;span class=\"c-product__attributes__label\"&gt;Ge...</td>\n",
       "    </tr>\n",
       "    <tr>\n",
       "      <th>2782</th>\n",
       "      <td>[\\nBague Leni Or Blanc Diamant\\n]</td>\n",
       "      <td>319.00</td>\n",
       "      <td>{&lt;span class=\"c-product__attributes__label\"&gt;Ge...</td>\n",
       "    </tr>\n",
       "    <tr>\n",
       "      <th>2783</th>\n",
       "      <td>[\\nAlliance Valentine Or Blanc Diamant Synthet...</td>\n",
       "      <td>790.00</td>\n",
       "      <td>{&lt;span class=\"c-product__attributes__label\"&gt;Ge...</td>\n",
       "    </tr>\n",
       "  </tbody>\n",
       "</table>\n",
       "</div>"
      ],
      "text/plain": [
       "                                                article    prix  \\\n",
       "2779         [\\nBague Anja Or Blanc Rubis Et Diamant\\n]  360.00   \n",
       "2780    [\\nBague Solitaire Victoria Or Blanc Diamant\\n]  590.00   \n",
       "2781      [\\nCréoles Telya Lisses Fil Carre Or Jaune\\n]   99.00   \n",
       "2782                  [\\nBague Leni Or Blanc Diamant\\n]  319.00   \n",
       "2783  [\\nAlliance Valentine Or Blanc Diamant Synthet...  790.00   \n",
       "\n",
       "                                            description  \n",
       "2779  {<span class=\"c-product__attributes__label\">Ge...  \n",
       "2780  {<span class=\"c-product__attributes__label\">Ge...  \n",
       "2781  {<span class=\"c-product__attributes__label\">Ge...  \n",
       "2782  {<span class=\"c-product__attributes__label\">Ge...  \n",
       "2783  {<span class=\"c-product__attributes__label\">Ge...  "
      ]
     },
     "execution_count": 6,
     "metadata": {},
     "output_type": "execute_result"
    }
   ],
   "source": [
    "#Taille base \n",
    "df_article.tail()"
   ]
  },
  {
   "cell_type": "code",
   "execution_count": 7,
   "id": "ef2625fd",
   "metadata": {},
   "outputs": [],
   "source": [
    "#Exportation de la base de donnees \n",
    "df_article.to_csv(r'C:\\Users\\evage\\Desktop\\PYTHON\\projet\\data.csv',index=False, sep=\";\")"
   ]
  },
  {
   "cell_type": "markdown",
   "id": "abc2796e",
   "metadata": {},
   "source": [
    "<b><FONT size=\"5\" color='#884846'>Modele avec python </FONT>"
   ]
  },
  {
   "cell_type": "markdown",
   "id": "8db9edd9",
   "metadata": {},
   "source": [
    "Dans cette partie nous reprenons les bases de donnees train et test traitees avec Pyspark sur Databricks.\n",
    "\n",
    "Nous allons effectuer les memes modeles que ceux effectues avec Pyspark afin de le comparer."
   ]
  },
  {
   "cell_type": "markdown",
   "id": "469fba50",
   "metadata": {},
   "source": [
    "<b><FONT size=\"4\" color='#858846'>Importation des bases de donnees</FONT>"
   ]
  },
  {
   "cell_type": "code",
   "execution_count": 8,
   "id": "28cb6b8d",
   "metadata": {},
   "outputs": [],
   "source": [
    "train = pd.read_csv(r'C:\\Users\\evage\\Desktop\\PYTHON\\projet\\train.csv')\n",
    "test = pd.read_csv(r'C:\\Users\\evage\\Desktop\\PYTHON\\projet\\test.csv')"
   ]
  },
  {
   "cell_type": "code",
   "execution_count": 11,
   "id": "5748f633",
   "metadata": {},
   "outputs": [],
   "source": [
    "#Formation des bases de design \n",
    "X_train = train.drop(columns=\"prix_cat\")\n",
    "X_test = test.drop(columns=\"prix_cat\")\n",
    "\n",
    "#Formation de la variable explicative \n",
    "y_train = train[\"prix_cat\"]\n",
    "y_test = test[\"prix_cat\"]"
   ]
  },
  {
   "cell_type": "markdown",
   "id": "63cfe18d",
   "metadata": {},
   "source": [
    "<b><FONT size=\"4\" color='#858846'> One-Hot-Encoding </FONT>"
   ]
  },
  {
   "cell_type": "code",
   "execution_count": 12,
   "id": "113b2385",
   "metadata": {},
   "outputs": [],
   "source": [
    "#Listes des variables de la matrice de design \n",
    "var_model = X_train.columns\n",
    "\n",
    "#One-Hot-Encoding\n",
    "X_train= pd.get_dummies(X_train, columns=var_model)\n",
    "X_test = pd.get_dummies(X_test, columns=var_model) "
   ]
  },
  {
   "cell_type": "code",
   "execution_count": 13,
   "id": "449fe3b4",
   "metadata": {},
   "outputs": [],
   "source": [
    "#Cross validation \n",
    "cv= KFold(n_splits=5, shuffle=True, random_state=42)"
   ]
  },
  {
   "cell_type": "markdown",
   "id": "8e9f8a1c",
   "metadata": {},
   "source": [
    "<b><FONT size=\"4\" color='#858846'> Modele logit </FONT>"
   ]
  },
  {
   "cell_type": "code",
   "execution_count": 16,
   "id": "a2b54af8",
   "metadata": {},
   "outputs": [
    {
     "name": "stdout",
     "output_type": "stream",
     "text": [
      "Le meilleur modèle est :  LogisticRegression(l1_ratio=0.01, max_iter=10, penalty='elasticnet',\n",
      "                   solver='saga')\n",
      "L'accuracy est de :  0.6447769028871392\n",
      "Les meilleurs paramètres sont :  {'l1_ratio': 0.01, 'max_iter': 10}\n",
      "L'accuracy sur le test est de :  0.665948275862069\n"
     ]
    }
   ],
   "source": [
    "#Modele classifier \n",
    "model = LogisticRegression(solver = 'saga', penalty='elasticnet')\n",
    "\n",
    "#Parametres de la GridSearchCV\n",
    "parametres = {'max_iter':  [10, 50, 100],  \n",
    "              'l1_ratio': [0.01, 0.1, 0.3]}\n",
    "\n",
    "#GridSearchCV\n",
    "clf_cv = GridSearchCV(model,param_grid=parametres, cv=cv, n_jobs=5, scoring='accuracy')\n",
    "\n",
    "#Entrainement du modele \n",
    "clf_cv.fit(X_train, y_train)\n",
    "\n",
    "#Resultats de la GridSearchCV\n",
    "print(\"Le meilleur modèle est : \", clf_cv.best_estimator_)\n",
    "print(\"L'accuracy est de : \", clf_cv.best_score_)\n",
    "print(\"Les meilleurs paramètres sont : \", clf_cv.best_params_)\n",
    "\n",
    "#Prediction \n",
    "y_pred=clf_cv.predict(X_test)\n",
    "#Score final sur notre base de test \n",
    "print(\"L'accuracy sur le test est de : \", accuracy_score(y_test, y_pred))"
   ]
  },
  {
   "cell_type": "markdown",
   "id": "ccac0aea",
   "metadata": {},
   "source": [
    "Le modele logit donne une performance de 66%. Ce qui signifie qu'il ne retrouve pas la bonne classe dans 34% des cas. Ce taux d'erreur est tout de même important."
   ]
  },
  {
   "cell_type": "markdown",
   "id": "d277d829",
   "metadata": {},
   "source": [
    "<b><FONT size=\"4\" color='#858846'> Modele Random Forest </FONT>"
   ]
  },
  {
   "cell_type": "code",
   "execution_count": 18,
   "id": "09b86e69",
   "metadata": {},
   "outputs": [
    {
     "name": "stdout",
     "output_type": "stream",
     "text": [
      "Le meilleur modèle est :  RandomForestClassifier(max_depth=10)\n",
      "L'accuracy est de :  0.6946898742920293\n",
      "es meilleurs paramètres sont :  {'max_depth': 10, 'n_estimators': 100}\n",
      "L'accuracy sur le test est de :  0.6681034482758621\n"
     ]
    }
   ],
   "source": [
    "#Modele Classifier \n",
    "model_RF=RandomForestClassifier()\n",
    "\n",
    "#Parametres de la GridSearchCV \n",
    "parametres = {'max_depth':  [10, 50, 100, 150],\n",
    " 'n_estimators': [10, 50, 100]}\n",
    "\n",
    "#GridSearchCV \n",
    "clf_rf_cv = GridSearchCV(model_RF,param_grid=parametres, cv=cv, n_jobs=5,  scoring='accuracy')\n",
    "\n",
    "#Entrainement du modele \n",
    "clf_rf_cv.fit(X_train, y_train)\n",
    "\n",
    "#Resultats de la GridSearchCV \n",
    "print(\"Le meilleur modèle est : \", clf_rf_cv.best_estimator_)\n",
    "print(\"L'accuracy est de : \", clf_rf_cv.best_score_)\n",
    "print(\"es meilleurs paramètres sont : \", clf_rf_cv.best_params_)\n",
    "\n",
    "#Predictions \n",
    "y_pred=clf_rf_cv.predict(X_test)\n",
    "#Score final sur notre base de test \n",
    "print(\"L'accuracy sur le test est de : \", accuracy_score(y_test, y_pred))"
   ]
  },
  {
   "cell_type": "markdown",
   "id": "e9afb555",
   "metadata": {},
   "source": [
    "Le modele random forest ne performe pas beaucoup mieux que le modele logit. Il ne trouve pas la bonne classe de prix dans 33% des cas. "
   ]
  },
  {
   "cell_type": "markdown",
   "id": "704c37d9",
   "metadata": {},
   "source": [
    "<b><FONT size=\"5\" color='red'>Conclusion </FONT>"
   ]
  },
  {
   "cell_type": "markdown",
   "id": "b2846768",
   "metadata": {},
   "source": [
    "- Au sein de ce notebook, nous avons web-scape le site Histoire d'Or afin d'obtenir les caracteristiques de chaque article feminin. \n",
    "- Ensuite, au sein du notebook de databricks, nous avons cree la base de donnees, nettoye la base de donnees et procede a des analyses descriptives. Par extension, nous avons propose deux modeles de Machine Learning afin de predire les categories de prix des produits. Le modele logit et la random forest avaient respectivement une accuracy de 63% et 70%. \n",
    "- Nous avons egalement execute ces memes modeles avec la librairie sklearn de python. Nous constatons que le modele de classification logit a une meilleure performance avec la librairie sklearn (accuracy de 66%). Cependant, la random forest a une capacite predictive inferieure a celle effectuee sur pyspark (67% VS 70%). \n",
    "\n",
    "- En conclusion, le modele qui permet de predire la categorie de prix des articles avec une erreur minimale est celui de la random forest de pyspark. "
   ]
  },
  {
   "cell_type": "code",
   "execution_count": null,
   "id": "6b567992",
   "metadata": {},
   "outputs": [],
   "source": []
  }
 ],
 "metadata": {
  "kernelspec": {
   "display_name": "Python 3 (ipykernel)",
   "language": "python",
   "name": "python3"
  },
  "language_info": {
   "codemirror_mode": {
    "name": "ipython",
    "version": 3
   },
   "file_extension": ".py",
   "mimetype": "text/x-python",
   "name": "python",
   "nbconvert_exporter": "python",
   "pygments_lexer": "ipython3",
   "version": "3.9.7"
  }
 },
 "nbformat": 4,
 "nbformat_minor": 5
}
