{
 "cells": [
  {
   "cell_type": "code",
   "execution_count": 0,
   "metadata": {
    "application/vnd.databricks.v1+cell": {
     "inputWidgets": {},
     "nuid": "7b4c2867-baf1-4bf0-91ea-e82f33dcfdd7",
     "showTitle": false,
     "title": ""
    }
   },
   "outputs": [
    {
     "data": {
      "text/html": [
       "<font size=8' color='#884846' face=\"sans-serif\">Projet Python Avance: Classification du prix des bijoux du site Histoire d'or </font>"
      ]
     },
     "metadata": {
      "application/vnd.databricks.v1+output": {
       "addedWidgets": {},
       "arguments": {},
       "data": "<font size=8' color='#884846' face=\"sans-serif\">Projet Python Avance: Classification du prix des bijoux du site Histoire d'or </font>",
       "datasetInfos": [],
       "metadata": {},
       "removedWidgets": [],
       "textData": null,
       "type": "htmlSandbox"
      }
     },
     "output_type": "display_data"
    }
   ],
   "source": [
    "displayHTML(\"\"\"<font size=8' color='#884846' face=\"sans-serif\">Projet Python Avance: Classification du prix des bijoux du site Histoire d'or </font>\"\"\")"
   ]
  },
  {
   "cell_type": "code",
   "execution_count": 0,
   "metadata": {
    "application/vnd.databricks.v1+cell": {
     "inputWidgets": {},
     "nuid": "8f51abb8-21a3-406d-b157-dda1c2eb897f",
     "showTitle": false,
     "title": ""
    }
   },
   "outputs": [
    {
     "data": {
      "text/html": [
       "<font size=\"4\" color=\"#595949\" face=\"sans-serif\">Fancello Marie Clara, Germini Eva, Gutfreund Eloise</font>"
      ]
     },
     "metadata": {
      "application/vnd.databricks.v1+output": {
       "addedWidgets": {},
       "arguments": {},
       "data": "<font size=\"4\" color=\"#595949\" face=\"sans-serif\">Fancello Marie Clara, Germini Eva, Gutfreund Eloise</font>",
       "datasetInfos": [],
       "metadata": {},
       "removedWidgets": [],
       "textData": null,
       "type": "htmlSandbox"
      }
     },
     "output_type": "display_data"
    }
   ],
   "source": [
    "displayHTML(\"\"\"<font size=\"4\" color=\"#595949\" face=\"sans-serif\">Fancello Marie Clara, Germini Eva, Gutfreund Eloise</font>\"\"\")"
   ]
  },
  {
   "cell_type": "markdown",
   "metadata": {
    "application/vnd.databricks.v1+cell": {
     "inputWidgets": {},
     "nuid": "4df0925b-c6eb-4a30-8457-8e9d079f2b7e",
     "showTitle": false,
     "title": ""
    }
   },
   "source": [
    "L'objective de ce projet est de predire le prix (en categorielle) des bijoux feminins du site Histoire d'Or. Precedemment, nous avons extrait les donnees du site par une technique de web scaping sur python."
   ]
  },
  {
   "cell_type": "code",
   "execution_count": 0,
   "metadata": {
    "application/vnd.databricks.v1+cell": {
     "inputWidgets": {},
     "nuid": "e8492c83-87b2-4931-944a-21a6e8d331bf",
     "showTitle": false,
     "title": ""
    }
   },
   "outputs": [
    {
     "data": {
      "text/html": [
       "<font size=6' color='#884846' face=\"sans-serif\">I) Premiers traitements </font>"
      ]
     },
     "metadata": {
      "application/vnd.databricks.v1+output": {
       "addedWidgets": {},
       "arguments": {},
       "data": "<font size=6' color='#884846' face=\"sans-serif\">I) Premiers traitements </font>",
       "datasetInfos": [],
       "metadata": {},
       "removedWidgets": [],
       "textData": null,
       "type": "htmlSandbox"
      }
     },
     "output_type": "display_data"
    }
   ],
   "source": [
    "displayHTML(\"\"\"<font size=6' color='#884846' face=\"sans-serif\">I) Premiers traitements </font>\"\"\")"
   ]
  },
  {
   "cell_type": "code",
   "execution_count": 0,
   "metadata": {
    "application/vnd.databricks.v1+cell": {
     "inputWidgets": {},
     "nuid": "390a0164-a2f9-4ca0-b2eb-4cf445e9eb1e",
     "showTitle": false,
     "title": ""
    }
   },
   "outputs": [
    {
     "data": {
      "text/html": [
       "<font size=4' color='#858846' face=\"sans-serif\">Importation des libraires </font>"
      ]
     },
     "metadata": {
      "application/vnd.databricks.v1+output": {
       "addedWidgets": {},
       "arguments": {},
       "data": "<font size=4' color='#858846' face=\"sans-serif\">Importation des libraires </font>",
       "datasetInfos": [],
       "metadata": {},
       "removedWidgets": [],
       "textData": null,
       "type": "htmlSandbox"
      }
     },
     "output_type": "display_data"
    }
   ],
   "source": [
    "displayHTML(\"\"\"<font size=4' color='#858846' face=\"sans-serif\">Importation des libraires </font>\"\"\")"
   ]
  },
  {
   "cell_type": "code",
   "execution_count": 0,
   "metadata": {
    "application/vnd.databricks.v1+cell": {
     "inputWidgets": {},
     "nuid": "dcd13ad7-291c-4369-bf7d-54c760dbda5d",
     "showTitle": false,
     "title": ""
    }
   },
   "outputs": [],
   "source": [
    "#Pour le traitement de la base de donnees\n",
    "from pyspark.sql.functions import regexp_extract, col, isnan, when, mean, count, col, regexp_replace, isnull\n",
    "import pyspark.sql.functions as F \n",
    "\n",
    "#Pour les statistiques descriptives \n",
    "import matplotlib.pyplot as plt\n",
    "import seaborn as sns\n",
    "import pandas as pd\n",
    "from pyspark.ml.stat import Correlation\n",
    "\n",
    "#Pour le modele de machine learning \n",
    "from pyspark.ml.tuning import TrainValidationSplit, ParamGridBuilder, CrossValidator\n",
    "from pyspark.ml.feature import OneHotEncoder, StringIndexer, VectorAssembler\n",
    "from pyspark.ml import Pipeline\n",
    "from pyspark.ml.classification import LogisticRegression, RandomForestClassifier\n",
    "from pyspark.ml.evaluation import MulticlassClassificationEvaluator"
   ]
  },
  {
   "cell_type": "code",
   "execution_count": 0,
   "metadata": {
    "application/vnd.databricks.v1+cell": {
     "inputWidgets": {},
     "nuid": "928401f7-baee-4c47-9986-bb367e6121c5",
     "showTitle": false,
     "title": ""
    }
   },
   "outputs": [
    {
     "data": {
      "text/html": [
       "<font size=4' color='#858846' face=\"sans-serif\">Lecture et formation de la base de donnees </font>"
      ]
     },
     "metadata": {
      "application/vnd.databricks.v1+output": {
       "addedWidgets": {},
       "arguments": {},
       "data": "<font size=4' color='#858846' face=\"sans-serif\">Lecture et formation de la base de donnees </font>",
       "datasetInfos": [],
       "metadata": {},
       "removedWidgets": [],
       "textData": null,
       "type": "htmlSandbox"
      }
     },
     "output_type": "display_data"
    }
   ],
   "source": [
    "displayHTML(\"\"\"<font size=4' color='#858846' face=\"sans-serif\">Lecture et formation de la base de donnees </font>\"\"\")"
   ]
  },
  {
   "cell_type": "code",
   "execution_count": 0,
   "metadata": {
    "application/vnd.databricks.v1+cell": {
     "inputWidgets": {},
     "nuid": "2990159d-9413-4bff-adbd-a14b15189743",
     "showTitle": false,
     "title": ""
    }
   },
   "outputs": [
    {
     "data": {
      "text/plain": [
       "+--------------------+------+--------------------+\n",
       "|             article|  prix|         description|\n",
       "+--------------------+------+--------------------+\n",
       "|['\\nBague Clothil...|159.00|\"{<span class=\"\"c...|\n",
       "|\"[\"\"\\nBoucles D'o...|  null|                null|\n",
       "|['\\nBague Manon O...|169.00|\"{<span class=\"\"c...|\n",
       "|['\\nCréoles Sandr...| 89.00|\"{<span class=\"\"c...|\n",
       "|['\\nCollier Mukad...| 79.00|\"{<span class=\"\"c...|\n",
       "|['\\nChaîne Igoa M...| 99.00|\"{<span class=\"\"c...|\n",
       "|['\\nCollier Doubl...|109.00|\"{<span class=\"\"c...|\n",
       "|['\\nBracelet Barr...| 99.00|\"{<span class=\"\"c...|\n",
       "|['\\nCollier Ponam...| 99.00|\"{<span class=\"\"c...|\n",
       "|['\\nCréoles Andge...| 99.00|\"{<span class=\"\"c...|\n",
       "|['\\nCollier Petit...| 89.00|\"{<span class=\"\"c...|\n",
       "|['\\nCollier Laury...| 75.00|\"{<span class=\"\"c...|\n",
       "|['\\nCréoles Valen...|119.00|\"{<span class=\"\"c...|\n",
       "|['\\nBague Smerald...| 99.00|\"{<span class=\"\"c...|\n",
       "|['\\nCollier Rosal...|159.00|\"{<span class=\"\"c...|\n",
       "|\"[\"\"\\nBoucles D'o...|  null|                null|\n",
       "|['\\nCollier Cloth...|169.00|\"{<span class=\"\"c...|\n",
       "|['\\nBague Solitai...| 75.00|\"{<span class=\"\"c...|\n",
       "|['\\nMontre Guess ...|105.00|\"{<span class=\"\"c...|\n",
       "|['\\nBague Tiphain...| 99.00|\"{<span class=\"\"c...|\n",
       "+--------------------+------+--------------------+\n",
       "only showing top 20 rows\n",
       "\n"
      ]
     },
     "metadata": {
      "application/vnd.databricks.v1+output": {
       "addedWidgets": {},
       "arguments": {},
       "data": "+--------------------+------+--------------------+\n|             article|  prix|         description|\n+--------------------+------+--------------------+\n|['\\nBague Clothil...|159.00|\"{<span class=\"\"c...|\n|\"[\"\"\\nBoucles D'o...|  null|                null|\n|['\\nBague Manon O...|169.00|\"{<span class=\"\"c...|\n|['\\nCréoles Sandr...| 89.00|\"{<span class=\"\"c...|\n|['\\nCollier Mukad...| 79.00|\"{<span class=\"\"c...|\n|['\\nChaîne Igoa M...| 99.00|\"{<span class=\"\"c...|\n|['\\nCollier Doubl...|109.00|\"{<span class=\"\"c...|\n|['\\nBracelet Barr...| 99.00|\"{<span class=\"\"c...|\n|['\\nCollier Ponam...| 99.00|\"{<span class=\"\"c...|\n|['\\nCréoles Andge...| 99.00|\"{<span class=\"\"c...|\n|['\\nCollier Petit...| 89.00|\"{<span class=\"\"c...|\n|['\\nCollier Laury...| 75.00|\"{<span class=\"\"c...|\n|['\\nCréoles Valen...|119.00|\"{<span class=\"\"c...|\n|['\\nBague Smerald...| 99.00|\"{<span class=\"\"c...|\n|['\\nCollier Rosal...|159.00|\"{<span class=\"\"c...|\n|\"[\"\"\\nBoucles D'o...|  null|                null|\n|['\\nCollier Cloth...|169.00|\"{<span class=\"\"c...|\n|['\\nBague Solitai...| 75.00|\"{<span class=\"\"c...|\n|['\\nMontre Guess ...|105.00|\"{<span class=\"\"c...|\n|['\\nBague Tiphain...| 99.00|\"{<span class=\"\"c...|\n+--------------------+------+--------------------+\nonly showing top 20 rows\n\n",
       "datasetInfos": [],
       "metadata": {},
       "removedWidgets": [],
       "type": "ansi"
      }
     },
     "output_type": "display_data"
    }
   ],
   "source": [
    "#Importation de la data\n",
    "df1 = spark.read.format(\"csv\").option(\"header\", \"true\").option(\"sep\", \";\").load(\"dbfs:/FileStore/shared_uploads/eva.germini@etu.univ-paris1.fr/data-3.csv\")\n",
    "\n",
    "#Apercu de la base de donnees\n",
    "df1.show()"
   ]
  },
  {
   "cell_type": "markdown",
   "metadata": {
    "application/vnd.databricks.v1+cell": {
     "inputWidgets": {},
     "nuid": "e844ceb8-64fb-40d8-9779-6e86a5814c93",
     "showTitle": false,
     "title": ""
    }
   },
   "source": [
    "Nous creeons une nouvelle variable nommee \"categorie\" correspondant au type de produits presents dans notre base de donnees:"
   ]
  },
  {
   "cell_type": "code",
   "execution_count": 0,
   "metadata": {
    "application/vnd.databricks.v1+cell": {
     "inputWidgets": {},
     "nuid": "9d6e2978-48ab-49c1-8d4c-bd40ca8a821b",
     "showTitle": false,
     "title": ""
    }
   },
   "outputs": [],
   "source": [
    "#Nous distinguons trois 4 catégories importantes pour l'analyse de bijoux: les bagues, les boucles d'oreilles, collier et bracelet.\n",
    "df1 = df1.withColumn(\"categorie\", F.when(df1.article.contains('Bague') | df1.article.contains('Alliance') | df1.article.contains('Chevalière'), 'Bague').when(df1.article.contains('Boucles') | df1.article.contains('Créoles'), 'Boucles').when(df1.article.contains('Collier'), 'Collier').when(df1.article.contains('Bracelet'), 'Bracelet').otherwise('Autres'))"
   ]
  },
  {
   "cell_type": "markdown",
   "metadata": {
    "application/vnd.databricks.v1+cell": {
     "inputWidgets": {},
     "nuid": "5bddce79-5f4c-47f5-bcf2-1fd5ea6a11ef",
     "showTitle": false,
     "title": ""
    }
   },
   "source": [
    "Nettoyage de la variable \"description\":"
   ]
  },
  {
   "cell_type": "code",
   "execution_count": 0,
   "metadata": {
    "application/vnd.databricks.v1+cell": {
     "inputWidgets": {},
     "nuid": "368b3e77-9140-44d9-9335-5288f544dfcd",
     "showTitle": false,
     "title": ""
    }
   },
   "outputs": [],
   "source": [
    "#Utilisation de regex pour nettoyer la variable \"description\" afin de la rendre exploitable\n",
    "df1 = df1.withColumn(\"desc_new\", regexp_replace(\"description\", \"Couleur matière\", \"CoulMat\"))\n",
    "df1 = df1.withColumn(\"desc_new\", regexp_replace(\"desc_new\", \"[^0-9A-Za-z^,^.]\", \"\"))\n",
    "df1 = df1.withColumn(\"desc_new\", regexp_replace(\"desc_new\", \"spanclasscproductattributeslabel\", \"\"))\n",
    "df1 = df1.withColumn(\"desc_new\", regexp_replace(\"desc_new\", \"spanclasscproductattributesvalue\", \"\"))\n",
    "df1 = df1.withColumn(\"desc_new\", regexp_replace(\"desc_new\", \"span\", \"\"))\n",
    "df1 = df1.withColumn(\"desc_new\", regexp_replace(\"desc_new\", \"\\.\", \"unite\"))\n",
    "\n",
    "#Suppression des variables \"article\" et \"description\"\n",
    "df1 = df1.drop(\"article\", \"description\")"
   ]
  },
  {
   "cell_type": "markdown",
   "metadata": {
    "application/vnd.databricks.v1+cell": {
     "inputWidgets": {},
     "nuid": "07a4dd40-c512-4f66-aa8c-ff19d528e630",
     "showTitle": false,
     "title": ""
    }
   },
   "source": [
    "Nous supprimons les articles pour lesquels nous n'avons pas de description (car inexploitable):"
   ]
  },
  {
   "cell_type": "code",
   "execution_count": 0,
   "metadata": {
    "application/vnd.databricks.v1+cell": {
     "inputWidgets": {},
     "nuid": "a0914888-7871-46ac-9dcf-c0e79fa2b586",
     "showTitle": false,
     "title": ""
    }
   },
   "outputs": [
    {
     "data": {
      "text/plain": [
       "+------+---------+--------------------+\n",
       "|  prix|categorie|            desc_new|\n",
       "+------+---------+--------------------+\n",
       "|159.00|    Bague|GenreFemme,Tourde...|\n",
       "|169.00|    Bague|GenreFemme,Tourde...|\n",
       "| 89.00|  Boucles|GenreFemme,Poidst...|\n",
       "| 79.00|  Collier|GenreFemme,Poidst...|\n",
       "| 99.00|   Autres|GenreFamille,Poid...|\n",
       "|109.00|  Collier|GenreFemme,Poidst...|\n",
       "| 99.00| Bracelet|GenreFemme,Poidst...|\n",
       "| 99.00|  Collier|GenreFemme,Poidst...|\n",
       "| 99.00|  Boucles|GenreFemme,Poidst...|\n",
       "| 89.00|  Collier|GenreFemme,Poidst...|\n",
       "| 75.00|  Collier|GenreFemme,Poidst...|\n",
       "|119.00|  Boucles|GenreFemme,Poidst...|\n",
       "| 99.00|    Bague|GenreFemme,Tourde...|\n",
       "|159.00|  Collier|GenreFemme,Poidst...|\n",
       "|169.00|  Collier|GenreFemme,Poidst...|\n",
       "| 75.00|    Bague|GenreFemme,Tourde...|\n",
       "|105.00|   Autres|GenreFemme,Rfrenc...|\n",
       "| 99.00|    Bague|GenreFemme,Tourde...|\n",
       "| 99.00|  Collier|GenreFemme,Poidst...|\n",
       "|109.00|  Boucles|GenreFemme,Poidst...|\n",
       "+------+---------+--------------------+\n",
       "only showing top 20 rows\n",
       "\n"
      ]
     },
     "metadata": {
      "application/vnd.databricks.v1+output": {
       "addedWidgets": {},
       "arguments": {},
       "data": "+------+---------+--------------------+\n|  prix|categorie|            desc_new|\n+------+---------+--------------------+\n|159.00|    Bague|GenreFemme,Tourde...|\n|169.00|    Bague|GenreFemme,Tourde...|\n| 89.00|  Boucles|GenreFemme,Poidst...|\n| 79.00|  Collier|GenreFemme,Poidst...|\n| 99.00|   Autres|GenreFamille,Poid...|\n|109.00|  Collier|GenreFemme,Poidst...|\n| 99.00| Bracelet|GenreFemme,Poidst...|\n| 99.00|  Collier|GenreFemme,Poidst...|\n| 99.00|  Boucles|GenreFemme,Poidst...|\n| 89.00|  Collier|GenreFemme,Poidst...|\n| 75.00|  Collier|GenreFemme,Poidst...|\n|119.00|  Boucles|GenreFemme,Poidst...|\n| 99.00|    Bague|GenreFemme,Tourde...|\n|159.00|  Collier|GenreFemme,Poidst...|\n|169.00|  Collier|GenreFemme,Poidst...|\n| 75.00|    Bague|GenreFemme,Tourde...|\n|105.00|   Autres|GenreFemme,Rfrenc...|\n| 99.00|    Bague|GenreFemme,Tourde...|\n| 99.00|  Collier|GenreFemme,Poidst...|\n|109.00|  Boucles|GenreFemme,Poidst...|\n+------+---------+--------------------+\nonly showing top 20 rows\n\n",
       "datasetInfos": [],
       "metadata": {},
       "removedWidgets": [],
       "type": "ansi"
      }
     },
     "output_type": "display_data"
    }
   ],
   "source": [
    "df1 = df1.na.drop(subset=[\"desc_new\"])\n",
    "df1.show()"
   ]
  },
  {
   "cell_type": "markdown",
   "metadata": {
    "application/vnd.databricks.v1+cell": {
     "inputWidgets": {},
     "nuid": "9ee3a112-a5f0-4826-a02e-48fa7751f43f",
     "showTitle": false,
     "title": ""
    }
   },
   "source": [
    "Creation de nouvelles variables a partir de la variable de description. Les variables sont les suivantes: \n",
    "- le poids de l'article \n",
    "- la matiere de l'article \n",
    "- couleur de la matière \n",
    "- type de pierres sur le bijou \n",
    "- couleur des pierres \n",
    "- la forme des pierres \n",
    "- le nombre de pierres \n",
    "- le type de motifs sur le bijou \n",
    "- la longueur de l'article  \n",
    "- la largeur de l'article"
   ]
  },
  {
   "cell_type": "code",
   "execution_count": 0,
   "metadata": {
    "application/vnd.databricks.v1+cell": {
     "inputWidgets": {},
     "nuid": "216b9d29-d462-4572-b5c2-f1a516abc185",
     "showTitle": false,
     "title": ""
    }
   },
   "outputs": [
    {
     "data": {
      "text/plain": [
       "+------+---------+-----+-------+-----------+--------------+--------------+--------------+----------+---------+--------+--------+\n",
       "|  prix|categorie|poids|matiere|couleur_mat|   type_pierre|couleur_pierre|         forme|type_motif|nb_pierre|longueur|largueur|\n",
       "+------+---------+-----+-------+-----------+--------------+--------------+--------------+----------+---------+--------+--------+\n",
       "|159.00|    Bague|  0.9|     Or|      Blanc|         Oxyde|         Blanc|         Ronde|       Cur|        2|        |        |\n",
       "|169.00|    Bague| 0.94|     Or|      Blanc|         Oxyde|         Blanc|         Ronde|          |       12|        |        |\n",
       "| 89.00|  Boucles| 0.70|     Or|      Jaune|        Strass|         Blanc|  globaleRonde|          |         |        |        |\n",
       "| 79.00|  Collier| 2.49| Argent|      Blanc|         Ambre|    Mielcognac|              |       Cur|         |      45|        |\n",
       "| 99.00|   Autres| 0.88|     Or|      Jaune|              |              |              |          |         |      50|        |\n",
       "|109.00|  Collier| 0.87|     Or|   Bicolore|              |              |              |       Cur|         |      42|        |\n",
       "| 99.00| Bracelet| 0.69|     Or|       Rose|              |              |              |          |         |      18|        |\n",
       "| 99.00|  Collier| 0.93|     Or|      Jaune|         Oxyde|         Blanc|         Ronde|          |        1|      42|        |\n",
       "| 99.00|  Boucles| 0.73|     Or|      Jaune|         Oxyde|         Blanc|  globaleRonde|          |        6|        |        |\n",
       "| 89.00|  Collier| 0.82|     Or|      Jaune|              |              |              |          |         |      42|        |\n",
       "| 75.00|  Collier| 2.90| Argent|      Blanc|         Oxyde|         Blanc|              |     Ovale|       34|      45|        |\n",
       "|119.00|  Boucles| 1.12|     Or|      Jaune|              |              |  globaleRonde|          |         |        |        |\n",
       "| 99.00|    Bague| 0.66|     Or|   Bicolore|       Diamant|         Blanc|         Ronde|          |        1|        |        |\n",
       "|159.00|  Collier| 0.89|     Or|      Blanc|       Diamant|         Blanc|         Ronde|    Vrille|       10|      42|        |\n",
       "|169.00|  Collier| 0.97|     Or|      Jaune|         Oxyde|         Blanc|         Ronde|       Cur|        1|      42|        |\n",
       "| 75.00|    Bague| 2.09| Argent|      Blanc|         Oxyde|         Blanc|         Ronde|          |       26|        |        |\n",
       "|105.00|   Autres|     |  Acier|      Blanc|        Strass|duboitierBlanc|duboitierRonde|          |         |        |        |\n",
       "| 99.00|    Bague| 1.08|     Or|      Blanc|        Topaze|          Bleu|         Ronde|          |        1|        |        |\n",
       "| 99.00|  Collier|  0.9|     Or|      Blanc|Perledeculture|         Nacre|              |     Boule|         |      42|        |\n",
       "|109.00|  Boucles| 0.85|     Or|      Jaune|              |              |  globaleRonde|          |         |        |        |\n",
       "+------+---------+-----+-------+-----------+--------------+--------------+--------------+----------+---------+--------+--------+\n",
       "only showing top 20 rows\n",
       "\n"
      ]
     },
     "metadata": {
      "application/vnd.databricks.v1+output": {
       "addedWidgets": {},
       "arguments": {},
       "data": "+------+---------+-----+-------+-----------+--------------+--------------+--------------+----------+---------+--------+--------+\n|  prix|categorie|poids|matiere|couleur_mat|   type_pierre|couleur_pierre|         forme|type_motif|nb_pierre|longueur|largueur|\n+------+---------+-----+-------+-----------+--------------+--------------+--------------+----------+---------+--------+--------+\n|159.00|    Bague|  0.9|     Or|      Blanc|         Oxyde|         Blanc|         Ronde|       Cur|        2|        |        |\n|169.00|    Bague| 0.94|     Or|      Blanc|         Oxyde|         Blanc|         Ronde|          |       12|        |        |\n| 89.00|  Boucles| 0.70|     Or|      Jaune|        Strass|         Blanc|  globaleRonde|          |         |        |        |\n| 79.00|  Collier| 2.49| Argent|      Blanc|         Ambre|    Mielcognac|              |       Cur|         |      45|        |\n| 99.00|   Autres| 0.88|     Or|      Jaune|              |              |              |          |         |      50|        |\n|109.00|  Collier| 0.87|     Or|   Bicolore|              |              |              |       Cur|         |      42|        |\n| 99.00| Bracelet| 0.69|     Or|       Rose|              |              |              |          |         |      18|        |\n| 99.00|  Collier| 0.93|     Or|      Jaune|         Oxyde|         Blanc|         Ronde|          |        1|      42|        |\n| 99.00|  Boucles| 0.73|     Or|      Jaune|         Oxyde|         Blanc|  globaleRonde|          |        6|        |        |\n| 89.00|  Collier| 0.82|     Or|      Jaune|              |              |              |          |         |      42|        |\n| 75.00|  Collier| 2.90| Argent|      Blanc|         Oxyde|         Blanc|              |     Ovale|       34|      45|        |\n|119.00|  Boucles| 1.12|     Or|      Jaune|              |              |  globaleRonde|          |         |        |        |\n| 99.00|    Bague| 0.66|     Or|   Bicolore|       Diamant|         Blanc|         Ronde|          |        1|        |        |\n|159.00|  Collier| 0.89|     Or|      Blanc|       Diamant|         Blanc|         Ronde|    Vrille|       10|      42|        |\n|169.00|  Collier| 0.97|     Or|      Jaune|         Oxyde|         Blanc|         Ronde|       Cur|        1|      42|        |\n| 75.00|    Bague| 2.09| Argent|      Blanc|         Oxyde|         Blanc|         Ronde|          |       26|        |        |\n|105.00|   Autres|     |  Acier|      Blanc|        Strass|duboitierBlanc|duboitierRonde|          |         |        |        |\n| 99.00|    Bague| 1.08|     Or|      Blanc|        Topaze|          Bleu|         Ronde|          |        1|        |        |\n| 99.00|  Collier|  0.9|     Or|      Blanc|Perledeculture|         Nacre|              |     Boule|         |      42|        |\n|109.00|  Boucles| 0.85|     Or|      Jaune|              |              |  globaleRonde|          |         |        |        |\n+------+---------+-----+-------+-----------+--------------+--------------+--------------+----------+---------+--------+--------+\nonly showing top 20 rows\n\n",
       "datasetInfos": [],
       "metadata": {},
       "removedWidgets": [],
       "type": "ansi"
      }
     },
     "output_type": "display_data"
    }
   ],
   "source": [
    "#Creation de nouvelles variable a partir de la description de l'article\n",
    "df1 = df1.withColumn('poids', F.regexp_extract(df1['desc_new'],'(Poidstotalgr)(\\w+)(,)', 2))\n",
    "df1 = df1.withColumn(\"poids\", regexp_replace(\"poids\", \"unite\", \".\"))\n",
    "df1 = df1.withColumn('matiere', F.regexp_extract(df1['desc_new'],'(Matireprincipale)(\\w+)(,)', 2))\n",
    "df1 = df1.withColumn('couleur_mat', F.regexp_extract(df1['desc_new'],'(CoulMat)(\\w+)(,)', 2))\n",
    "df1 = df1.withColumn('type_pierre', F.regexp_extract(df1['desc_new'],'(Typedepierre)(\\w+)(,)', 2))\n",
    "df1 = df1.withColumn('couleur_pierre', F.regexp_extract(df1['desc_new'],'(Couleur)(\\w+)(,)', 2))\n",
    "df1 = df1.withColumn('forme', F.regexp_extract(df1['desc_new'],'(Forme)(\\w+)(,)', 2))\n",
    "df1 = df1.withColumn('type_motif', F.regexp_extract(df1['desc_new'],'(Typedemotif)(\\w+)(,)', 2))\n",
    "df1 = df1.withColumn('nb_pierre', F.regexp_extract(df1['desc_new'],'(Nombredepierres)(\\w+)(,)', 2))\n",
    "df1 = df1.withColumn('longueur', F.regexp_extract(df1['desc_new'],'(Longueurcm)(\\w+)(,)', 2))\n",
    "df1 = df1.withColumn('largueur', F.regexp_extract(df1['desc_new'],'(Largueurmm)(\\w+)(,)', 2))\n",
    "\n",
    "#Suppression de la variable \"desc_new\"\n",
    "df1 = df1.drop(\"desc_new\")\n",
    "\n",
    "#Apercu de la base de donnees apres creation de variable \n",
    "df1.show()"
   ]
  },
  {
   "cell_type": "markdown",
   "metadata": {
    "application/vnd.databricks.v1+cell": {
     "inputWidgets": {},
     "nuid": "62327b8b-bc99-4ae9-95ce-6a061736b820",
     "showTitle": false,
     "title": ""
    }
   },
   "source": [
    "Nous analysons les dimensions de la base de donnees: \n",
    "- Avant le traitement des doublons \n",
    "- Après le traitement des doublons"
   ]
  },
  {
   "cell_type": "code",
   "execution_count": 0,
   "metadata": {
    "application/vnd.databricks.v1+cell": {
     "inputWidgets": {},
     "nuid": "d4b19df2-979c-49c7-b7c6-80cbaaa51adb",
     "showTitle": false,
     "title": ""
    }
   },
   "outputs": [
    {
     "data": {
      "text/plain": [
       "Il y a 2426 observations avant suppression des doublons.\n",
       "Il y a 12 variables avant suppression des doublons.\n"
      ]
     },
     "metadata": {
      "application/vnd.databricks.v1+output": {
       "addedWidgets": {},
       "arguments": {},
       "data": "Il y a 2426 observations avant suppression des doublons.\nIl y a 12 variables avant suppression des doublons.\n",
       "datasetInfos": [],
       "metadata": {},
       "removedWidgets": [],
       "type": "ansi"
      }
     },
     "output_type": "display_data"
    }
   ],
   "source": [
    "#Taille de la base de donnees avant suppression des doublons \n",
    "print(\"Il y a \" + str(df1.count()) + \" observations avant suppression des doublons.\")\n",
    "print(\"Il y a \" + str(len(df1.columns)) + \" variables avant suppression des doublons.\")"
   ]
  },
  {
   "cell_type": "code",
   "execution_count": 0,
   "metadata": {
    "application/vnd.databricks.v1+cell": {
     "inputWidgets": {},
     "nuid": "77e50187-3030-418b-97eb-d68737b0cb4d",
     "showTitle": false,
     "title": ""
    }
   },
   "outputs": [
    {
     "data": {
      "text/plain": [
       "Il y a 59 doublons.\n"
      ]
     },
     "metadata": {
      "application/vnd.databricks.v1+output": {
       "addedWidgets": {},
       "arguments": {},
       "data": "Il y a 59 doublons.\n",
       "datasetInfos": [],
       "metadata": {},
       "removedWidgets": [],
       "type": "ansi"
      }
     },
     "output_type": "display_data"
    }
   ],
   "source": [
    "#Comptage des doublons \n",
    "df_no_dup = df1.distinct()\n",
    "print(\"Il y a \" + str((df1.count())-(df_no_dup.count())) + \" doublons.\")"
   ]
  },
  {
   "cell_type": "code",
   "execution_count": 0,
   "metadata": {
    "application/vnd.databricks.v1+cell": {
     "inputWidgets": {},
     "nuid": "a54a06b3-fe14-4071-88e4-7d52ca88e3c0",
     "showTitle": false,
     "title": ""
    }
   },
   "outputs": [],
   "source": [
    "#Suppression des doublons dans la base principale \n",
    "df1 = df1.distinct()"
   ]
  },
  {
   "cell_type": "code",
   "execution_count": 0,
   "metadata": {
    "application/vnd.databricks.v1+cell": {
     "inputWidgets": {},
     "nuid": "f4452900-2359-4b77-bba7-a3309fd885f6",
     "showTitle": false,
     "title": ""
    }
   },
   "outputs": [
    {
     "data": {
      "text/plain": [
       "Il y a 2367 observations apres suppression des doublons.\n",
       "Il y a 12 variables apres suppression des doublons.\n"
      ]
     },
     "metadata": {
      "application/vnd.databricks.v1+output": {
       "addedWidgets": {},
       "arguments": {},
       "data": "Il y a 2367 observations apres suppression des doublons.\nIl y a 12 variables apres suppression des doublons.\n",
       "datasetInfos": [],
       "metadata": {},
       "removedWidgets": [],
       "type": "ansi"
      }
     },
     "output_type": "display_data"
    }
   ],
   "source": [
    "#Taille de la base de donnees apres suppression des doublons\n",
    "print(\"Il y a \" + str(df1.count()) + \" observations apres suppression des doublons.\")\n",
    "print(\"Il y a \" + str(len(df1.columns)) + \" variables apres suppression des doublons.\")"
   ]
  },
  {
   "cell_type": "code",
   "execution_count": 0,
   "metadata": {
    "application/vnd.databricks.v1+cell": {
     "inputWidgets": {},
     "nuid": "e750c006-5e82-4f1d-b28b-5b1e1f37e005",
     "showTitle": false,
     "title": ""
    }
   },
   "outputs": [
    {
     "data": {
      "text/html": [
       "<font size=4' color='#858846' face=\"sans-serif\">Traitement des valeurs manquantes </font>"
      ]
     },
     "metadata": {
      "application/vnd.databricks.v1+output": {
       "addedWidgets": {},
       "arguments": {},
       "data": "<font size=4' color='#858846' face=\"sans-serif\">Traitement des valeurs manquantes </font>",
       "datasetInfos": [],
       "metadata": {},
       "removedWidgets": [],
       "textData": null,
       "type": "htmlSandbox"
      }
     },
     "output_type": "display_data"
    }
   ],
   "source": [
    "displayHTML(\"\"\"<font size=4' color='#858846' face=\"sans-serif\">Traitement des valeurs manquantes </font>\"\"\")"
   ]
  },
  {
   "cell_type": "markdown",
   "metadata": {
    "application/vnd.databricks.v1+cell": {
     "inputWidgets": {},
     "nuid": "4ccb7440-6363-4258-b066-87f40004ebe6",
     "showTitle": false,
     "title": ""
    }
   },
   "source": [
    "Deux types de valeurs manquantes sont dans notre base: \n",
    "- vide \n",
    "- null \n",
    "\n",
    "==> A la place du null, nous inserons du vide pour ensuite les caracteriser en reelles valeurs manquantes."
   ]
  },
  {
   "cell_type": "code",
   "execution_count": 0,
   "metadata": {
    "application/vnd.databricks.v1+cell": {
     "inputWidgets": {},
     "nuid": "3ee9202b-0c34-4ecc-a9fd-0d8719cfea4c",
     "showTitle": false,
     "title": ""
    }
   },
   "outputs": [],
   "source": [
    "df1 = df1.na.fill(value='')"
   ]
  },
  {
   "cell_type": "code",
   "execution_count": 0,
   "metadata": {
    "application/vnd.databricks.v1+cell": {
     "inputWidgets": {},
     "nuid": "e39ac5da-6dbf-40e3-b925-4a4dff6727a7",
     "showTitle": false,
     "title": ""
    }
   },
   "outputs": [
    {
     "data": {
      "text/plain": [
       "+------+---------+-----+-------+-----------+--------------+--------------+-------------+----------+---------+--------+--------+\n",
       "|  prix|categorie|poids|matiere|couleur_mat|   type_pierre|couleur_pierre|        forme|type_motif|nb_pierre|longueur|largueur|\n",
       "+------+---------+-----+-------+-----------+--------------+--------------+-------------+----------+---------+--------+--------+\n",
       "|199.00| Bracelet| 0.94|     Or|      Jaune|       Diamant|         Blanc|        Ronde|     Vague|       20|      18|     NaN|\n",
       "| 89.00|  Boucles|  6.8| Argent|      Blanc|           NaN|           NaN| globaleRonde|       NaN|      NaN|     NaN|     NaN|\n",
       "|159.00|  Boucles| 0.43|     Or|      Jaune|Perledeculture|         Nacre| globaleRonde|       NaN|        2|     NaN|     NaN|\n",
       "|149.00|  Collier| 1.03|    NaN|      Jaune|         Oxyde|         Blanc|          NaN|         V|      NaN|      42|     NaN|\n",
       "| 79.00|  Collier|  3.2| Argent|      Blanc|         Oxyde|         Blanc|        Ronde|    Cercle|        2|      50|     NaN|\n",
       "|109.00|  Collier| 2.14| Argent|      Blanc|         Oxyde|         Blanc|        Ronde|  Barrette|       41|      66|     NaN|\n",
       "|149.00|    Bague| 0.98|     Or|      Blanc|         Oxyde|         Blanc|        Ronde|       NaN|       23|     NaN|     NaN|\n",
       "|189.00| Bracelet| 1.85|    NaN|      Jaune|           NaN|           NaN|          NaN|       NaN|      NaN|      18|     NaN|\n",
       "| 79.00|  Collier|  8.1|    NaN|      Blanc|           NaN|           NaN|          NaN|       NaN|      NaN|      42|     NaN|\n",
       "| 99.00|  Collier| 3.87| Argent|      Blanc|         Oxyde|         Blanc|        Ronde|   Feuille|       16|      42|     NaN|\n",
       "|169.00|    Bague| 0.84|     Or|       Rose|         Oxyde|         Blanc|        Ronde|     Ovale|        6|     NaN|     NaN|\n",
       "| 99.00|   Autres|  0.6|    NaN|      Jaune|           NaN|           NaN|          NaN|       NaN|      NaN|     NaN|     NaN|\n",
       "|149.00|  Boucles| 1.62|     Or|   Bicolore|           NaN|           NaN|globaleAmande|       NaN|      NaN|     NaN|     NaN|\n",
       "|379.00|    Bague| 1.65|     Or|  Tricolore|       Diamant|         Blanc|        Ronde|       NaN|       10|     NaN|     NaN|\n",
       "| 89.00| Bracelet| 0.85|    NaN|      Jaune|           NaN|           NaN|          NaN|       NaN|      NaN|      18|     NaN|\n",
       "|499.00|  Collier| 1.50|     Or|      Blanc|       Diamant|         Blanc|        Ronde|       NaN|       10|     NaN|     NaN|\n",
       "|229.00|    Bague| 1.14|    NaN|   Bicolore|           NaN|           NaN|          NaN|       NaN|      NaN|     NaN|     NaN|\n",
       "|299.00|    Bague| 1.21|     Or|      Blanc|       Diamant|         Blanc|    Princesse|     Vague|       10|     NaN|     NaN|\n",
       "| 99.00|  Collier| 3.97|    NaN|      Jaune|           NaN|           NaN|          NaN|       NaN|      NaN|     NaN|     NaN|\n",
       "| 89.00| Bracelet| 0.50|     Or|       Rose|         Oxyde|         Blanc|        Coeur|       Cur|        1|      17|     NaN|\n",
       "+------+---------+-----+-------+-----------+--------------+--------------+-------------+----------+---------+--------+--------+\n",
       "only showing top 20 rows\n",
       "\n"
      ]
     },
     "metadata": {
      "application/vnd.databricks.v1+output": {
       "addedWidgets": {},
       "arguments": {},
       "data": "+------+---------+-----+-------+-----------+--------------+--------------+-------------+----------+---------+--------+--------+\n|  prix|categorie|poids|matiere|couleur_mat|   type_pierre|couleur_pierre|        forme|type_motif|nb_pierre|longueur|largueur|\n+------+---------+-----+-------+-----------+--------------+--------------+-------------+----------+---------+--------+--------+\n|199.00| Bracelet| 0.94|     Or|      Jaune|       Diamant|         Blanc|        Ronde|     Vague|       20|      18|     NaN|\n| 89.00|  Boucles|  6.8| Argent|      Blanc|           NaN|           NaN| globaleRonde|       NaN|      NaN|     NaN|     NaN|\n|159.00|  Boucles| 0.43|     Or|      Jaune|Perledeculture|         Nacre| globaleRonde|       NaN|        2|     NaN|     NaN|\n|149.00|  Collier| 1.03|    NaN|      Jaune|         Oxyde|         Blanc|          NaN|         V|      NaN|      42|     NaN|\n| 79.00|  Collier|  3.2| Argent|      Blanc|         Oxyde|         Blanc|        Ronde|    Cercle|        2|      50|     NaN|\n|109.00|  Collier| 2.14| Argent|      Blanc|         Oxyde|         Blanc|        Ronde|  Barrette|       41|      66|     NaN|\n|149.00|    Bague| 0.98|     Or|      Blanc|         Oxyde|         Blanc|        Ronde|       NaN|       23|     NaN|     NaN|\n|189.00| Bracelet| 1.85|    NaN|      Jaune|           NaN|           NaN|          NaN|       NaN|      NaN|      18|     NaN|\n| 79.00|  Collier|  8.1|    NaN|      Blanc|           NaN|           NaN|          NaN|       NaN|      NaN|      42|     NaN|\n| 99.00|  Collier| 3.87| Argent|      Blanc|         Oxyde|         Blanc|        Ronde|   Feuille|       16|      42|     NaN|\n|169.00|    Bague| 0.84|     Or|       Rose|         Oxyde|         Blanc|        Ronde|     Ovale|        6|     NaN|     NaN|\n| 99.00|   Autres|  0.6|    NaN|      Jaune|           NaN|           NaN|          NaN|       NaN|      NaN|     NaN|     NaN|\n|149.00|  Boucles| 1.62|     Or|   Bicolore|           NaN|           NaN|globaleAmande|       NaN|      NaN|     NaN|     NaN|\n|379.00|    Bague| 1.65|     Or|  Tricolore|       Diamant|         Blanc|        Ronde|       NaN|       10|     NaN|     NaN|\n| 89.00| Bracelet| 0.85|    NaN|      Jaune|           NaN|           NaN|          NaN|       NaN|      NaN|      18|     NaN|\n|499.00|  Collier| 1.50|     Or|      Blanc|       Diamant|         Blanc|        Ronde|       NaN|       10|     NaN|     NaN|\n|229.00|    Bague| 1.14|    NaN|   Bicolore|           NaN|           NaN|          NaN|       NaN|      NaN|     NaN|     NaN|\n|299.00|    Bague| 1.21|     Or|      Blanc|       Diamant|         Blanc|    Princesse|     Vague|       10|     NaN|     NaN|\n| 99.00|  Collier| 3.97|    NaN|      Jaune|           NaN|           NaN|          NaN|       NaN|      NaN|     NaN|     NaN|\n| 89.00| Bracelet| 0.50|     Or|       Rose|         Oxyde|         Blanc|        Coeur|       Cur|        1|      17|     NaN|\n+------+---------+-----+-------+-----------+--------------+--------------+-------------+----------+---------+--------+--------+\nonly showing top 20 rows\n\n",
       "datasetInfos": [],
       "metadata": {},
       "removedWidgets": [],
       "type": "ansi"
      }
     },
     "output_type": "display_data"
    }
   ],
   "source": [
    "df1 = df1.withColumn(\"prix\", F.when(df1.prix=='', F.lit(float('nan'))).otherwise(df1.prix))\n",
    "df1 = df1.withColumn(\"categorie\", F.when(df1.categorie=='', F.lit(float('nan'))).otherwise(df1.categorie))\n",
    "df1 = df1.withColumn(\"poids\", F.when(df1.poids=='', F.lit(float('nan'))).otherwise(df1.poids))\n",
    "df1 = df1.withColumn(\"matiere\", F.when(df1.forme=='', F.lit(float('nan'))).otherwise(df1.matiere))\n",
    "df1 = df1.withColumn(\"couleur_mat\", F.when(df1.couleur_mat=='', F.lit(float('nan'))).otherwise(df1.couleur_mat))\n",
    "df1 = df1.withColumn(\"type_pierre\", F.when(df1.type_pierre=='', F.lit(float('nan'))).otherwise(df1.type_pierre))\n",
    "df1 = df1.withColumn(\"couleur_pierre\", F.when(df1.couleur_pierre=='', F.lit(float('nan'))).otherwise(df1.couleur_pierre))\n",
    "df1 = df1.withColumn(\"forme\", F.when(df1.forme=='', F.lit(float('nan'))).otherwise(df1.forme))\n",
    "df1 = df1.withColumn(\"type_motif\", F.when(df1.type_motif=='', F.lit(float('nan'))).otherwise(df1.type_motif))\n",
    "df1 = df1.withColumn(\"nb_pierre\", F.when(df1.nb_pierre=='', F.lit(float('nan'))).otherwise(df1.nb_pierre))\n",
    "df1 = df1.withColumn(\"longueur\", F.when(df1.longueur=='', F.lit(float('nan'))).otherwise(df1.longueur))\n",
    "df1 = df1.withColumn(\"largueur\", F.when(df1.largueur=='', F.lit(float('nan'))).otherwise(df1.largueur))\n",
    "df1.show()"
   ]
  },
  {
   "cell_type": "code",
   "execution_count": 0,
   "metadata": {
    "application/vnd.databricks.v1+cell": {
     "inputWidgets": {},
     "nuid": "12adf921-d3a6-4b17-bf4e-f947cbbf40ac",
     "showTitle": false,
     "title": ""
    }
   },
   "outputs": [
    {
     "data": {
      "text/html": [
       "<font size=4' color='#858846' face=\"sans-serif\"> Analyse du type des variables </font>"
      ]
     },
     "metadata": {
      "application/vnd.databricks.v1+output": {
       "addedWidgets": {},
       "arguments": {},
       "data": "<font size=4' color='#858846' face=\"sans-serif\"> Analyse du type des variables </font>",
       "datasetInfos": [],
       "metadata": {},
       "removedWidgets": [],
       "textData": null,
       "type": "htmlSandbox"
      }
     },
     "output_type": "display_data"
    }
   ],
   "source": [
    "displayHTML(\"\"\"<font size=4' color='#858846' face=\"sans-serif\"> Analyse du type des variables </font>\"\"\")"
   ]
  },
  {
   "cell_type": "markdown",
   "metadata": {
    "application/vnd.databricks.v1+cell": {
     "inputWidgets": {},
     "nuid": "61eb52a9-f610-4d6c-9090-880482c67620",
     "showTitle": false,
     "title": ""
    }
   },
   "source": [
    "Nous observons que les variables continues: \"prix\", \"longueur\", \"largueur\", \"poids\" et \"nb_pierre\" sont de type caractere. Cependant, ce sont des variables continues:"
   ]
  },
  {
   "cell_type": "code",
   "execution_count": 0,
   "metadata": {
    "application/vnd.databricks.v1+cell": {
     "inputWidgets": {},
     "nuid": "d7eab4a2-9518-41fb-9f0d-0ccf081f6c12",
     "showTitle": false,
     "title": ""
    }
   },
   "outputs": [
    {
     "data": {
      "text/plain": [
       "Out[23]: [('prix', 'string'),\n",
       " ('categorie', 'string'),\n",
       " ('poids', 'string'),\n",
       " ('matiere', 'string'),\n",
       " ('couleur_mat', 'string'),\n",
       " ('type_pierre', 'string'),\n",
       " ('couleur_pierre', 'string'),\n",
       " ('forme', 'string'),\n",
       " ('type_motif', 'string'),\n",
       " ('nb_pierre', 'string'),\n",
       " ('longueur', 'string'),\n",
       " ('largueur', 'string')]"
      ]
     },
     "metadata": {
      "application/vnd.databricks.v1+output": {
       "addedWidgets": {},
       "arguments": {},
       "data": "Out[23]: [('prix', 'string'),\n ('categorie', 'string'),\n ('poids', 'string'),\n ('matiere', 'string'),\n ('couleur_mat', 'string'),\n ('type_pierre', 'string'),\n ('couleur_pierre', 'string'),\n ('forme', 'string'),\n ('type_motif', 'string'),\n ('nb_pierre', 'string'),\n ('longueur', 'string'),\n ('largueur', 'string')]",
       "datasetInfos": [],
       "metadata": {},
       "removedWidgets": [],
       "type": "ansi"
      }
     },
     "output_type": "display_data"
    }
   ],
   "source": [
    "#Analyse des types\n",
    "df1.dtypes"
   ]
  },
  {
   "cell_type": "code",
   "execution_count": 0,
   "metadata": {
    "application/vnd.databricks.v1+cell": {
     "inputWidgets": {},
     "nuid": "2ed0a1b6-7167-4f0c-ad62-a3c9a02703fd",
     "showTitle": false,
     "title": ""
    }
   },
   "outputs": [
    {
     "data": {
      "text/html": [
       "<font size=4' color='#858846' face=\"sans-serif\">Separation de la base de donnees </font>"
      ]
     },
     "metadata": {
      "application/vnd.databricks.v1+output": {
       "addedWidgets": {},
       "arguments": {},
       "data": "<font size=4' color='#858846' face=\"sans-serif\">Separation de la base de donnees </font>",
       "datasetInfos": [],
       "metadata": {},
       "removedWidgets": [],
       "textData": null,
       "type": "htmlSandbox"
      }
     },
     "output_type": "display_data"
    }
   ],
   "source": [
    "displayHTML(\"\"\"<font size=4' color='#858846' face=\"sans-serif\">Separation de la base de donnees </font>\"\"\")"
   ]
  },
  {
   "cell_type": "markdown",
   "metadata": {
    "application/vnd.databricks.v1+cell": {
     "inputWidgets": {},
     "nuid": "a0baa254-aa34-4489-8022-f056556b3e9a",
     "showTitle": false,
     "title": ""
    }
   },
   "source": [
    "Nous avons choisi d'effectuer par la suite un algorithme de machine learning (supervised) de classification afin de predire si le prix sera bas, moyen ou eleve. En modelisation, il est important d'avoir une base test afin de tester la performance predictive de notre modèle. Dans la pratique, cette base test ne doit etre connue et ne peut donc servir a l'analyse statistique. Nous separons donc la data avant l'analyse statistique. Chaque changment effectue sur le train sera egalement effectue sur le test."
   ]
  },
  {
   "cell_type": "code",
   "execution_count": 0,
   "metadata": {
    "application/vnd.databricks.v1+cell": {
     "inputWidgets": {},
     "nuid": "b77045f7-b122-46c1-a6fe-b22306e6fa10",
     "showTitle": false,
     "title": ""
    }
   },
   "outputs": [],
   "source": [
    "#Nous gardons 80% de la base de donnees pour l'entrainement du modele et 20% pour le test du modele \n",
    "train, test = df1.randomSplit([0.8, 0.2], seed=12345)"
   ]
  },
  {
   "cell_type": "code",
   "execution_count": 0,
   "metadata": {
    "application/vnd.databricks.v1+cell": {
     "inputWidgets": {},
     "nuid": "6e3dc8c5-398e-457a-b26f-f77f7144a805",
     "showTitle": false,
     "title": ""
    }
   },
   "outputs": [
    {
     "data": {
      "text/plain": [
       "Il y a 1903 observations dans le train.\n",
       "Il y a 464 observations dans le test.\n"
      ]
     },
     "metadata": {
      "application/vnd.databricks.v1+output": {
       "addedWidgets": {},
       "arguments": {},
       "data": "Il y a 1903 observations dans le train.\nIl y a 464 observations dans le test.\n",
       "datasetInfos": [],
       "metadata": {},
       "removedWidgets": [],
       "type": "ansi"
      }
     },
     "output_type": "display_data"
    }
   ],
   "source": [
    "print(\"Il y a \" + str(train.count()) + \" observations dans le train.\")\n",
    "print(\"Il y a \" + str(test.count()) + \" observations dans le test.\")"
   ]
  },
  {
   "cell_type": "code",
   "execution_count": 0,
   "metadata": {
    "application/vnd.databricks.v1+cell": {
     "inputWidgets": {},
     "nuid": "41f45a49-6a3d-483d-81e3-0020a5ae3f05",
     "showTitle": false,
     "title": ""
    }
   },
   "outputs": [
    {
     "data": {
      "text/html": [
       "<font size=6' color='#884846' face=\"sans-serif\">II) Statistiques descriptives univariees et transformations de variables  </font>"
      ]
     },
     "metadata": {
      "application/vnd.databricks.v1+output": {
       "addedWidgets": {},
       "arguments": {},
       "data": "<font size=6' color='#884846' face=\"sans-serif\">II) Statistiques descriptives univariees et transformations de variables  </font>",
       "datasetInfos": [],
       "metadata": {},
       "removedWidgets": [],
       "textData": null,
       "type": "htmlSandbox"
      }
     },
     "output_type": "display_data"
    }
   ],
   "source": [
    "displayHTML(\"\"\"<font size=6' color='#884846' face=\"sans-serif\">II) Statistiques descriptives univariees et transformations de variables  </font>\"\"\")"
   ]
  },
  {
   "cell_type": "markdown",
   "metadata": {
    "application/vnd.databricks.v1+cell": {
     "inputWidgets": {},
     "nuid": "f08f61a3-6cd7-46e2-b796-3b949ca34a24",
     "showTitle": false,
     "title": ""
    }
   },
   "source": [
    "Lorsque l'on utilise un modele de classfication, il est recommander (voir parfois necessaire) de ne pas avoir de valeurs manquantes dans la base de donnees. Egalement, si les variables sont continues, il est judicieux de le discretiser. \n",
    "\n",
    "Dans cette partie, nous utiliserons donc les statistiques descriptives pour: \n",
    "- la gestion des valeurs manquantes et aberrantes \n",
    "- la formation de variables discretisees"
   ]
  },
  {
   "cell_type": "code",
   "execution_count": 0,
   "metadata": {
    "application/vnd.databricks.v1+cell": {
     "inputWidgets": {},
     "nuid": "d9a6b75b-57db-45c1-9f15-3624f0d9f6cc",
     "showTitle": false,
     "title": ""
    }
   },
   "outputs": [
    {
     "data": {
      "text/html": [
       "<font size=4' color='#858846' face=\"sans-serif\">Analyse des valeurs manquantes  </font>"
      ]
     },
     "metadata": {
      "application/vnd.databricks.v1+output": {
       "addedWidgets": {},
       "arguments": {},
       "data": "<font size=4' color='#858846' face=\"sans-serif\">Analyse des valeurs manquantes  </font>",
       "datasetInfos": [],
       "metadata": {},
       "removedWidgets": [],
       "textData": null,
       "type": "htmlSandbox"
      }
     },
     "output_type": "display_data"
    }
   ],
   "source": [
    "displayHTML(\"\"\"<font size=4' color='#858846' face=\"sans-serif\">Analyse des valeurs manquantes  </font>\"\"\")"
   ]
  },
  {
   "cell_type": "markdown",
   "metadata": {
    "application/vnd.databricks.v1+cell": {
     "inputWidgets": {},
     "nuid": "7aa4c323-c1e3-4db7-8052-022c4243c9bf",
     "showTitle": false,
     "title": ""
    }
   },
   "source": [
    "Au sein du train, les variables \"categorie\" et \"prix\" n'ont pas de valeurs manquantes. Les variables donnant des informations sur la pierre ne sont pas renseignees dans environs 35% des cas, cela s'explique par le fait que certains bijoux n'ont pas de pierres."
   ]
  },
  {
   "cell_type": "code",
   "execution_count": 0,
   "metadata": {
    "application/vnd.databricks.v1+cell": {
     "inputWidgets": {},
     "nuid": "48ae880c-1f2d-4e42-8e3e-28a1e35e45c4",
     "showTitle": false,
     "title": ""
    }
   },
   "outputs": [
    {
     "data": {
      "text/plain": [
       "+----+---------+-----------------+-----------------+------------------+------------------+---------------+-----------------+----------------+-----------------+-----------------+--------+\n",
       "|prix|categorie|            poids|          matiere|       couleur_mat|       type_pierre| couleur_pierre|            forme|      type_motif|        nb_pierre|         longueur|largueur|\n",
       "+----+---------+-----------------+-----------------+------------------+------------------+---------------+-----------------+----------------+-----------------+-----------------+--------+\n",
       "| 0.0|      0.0|2.312138728323699|33.57856016815554|0.1576458223857068|34.839726747241194|34.944823962165|33.57856016815554|64.9500788229112|40.19968470835523|60.27325275880189|   100.0|\n",
       "+----+---------+-----------------+-----------------+------------------+------------------+---------------+-----------------+----------------+-----------------+-----------------+--------+\n",
       "\n"
      ]
     },
     "metadata": {
      "application/vnd.databricks.v1+output": {
       "addedWidgets": {},
       "arguments": {},
       "data": "+----+---------+-----------------+-----------------+------------------+------------------+---------------+-----------------+----------------+-----------------+-----------------+--------+\n|prix|categorie|            poids|          matiere|       couleur_mat|       type_pierre| couleur_pierre|            forme|      type_motif|        nb_pierre|         longueur|largueur|\n+----+---------+-----------------+-----------------+------------------+------------------+---------------+-----------------+----------------+-----------------+-----------------+--------+\n| 0.0|      0.0|2.312138728323699|33.57856016815554|0.1576458223857068|34.839726747241194|34.944823962165|33.57856016815554|64.9500788229112|40.19968470835523|60.27325275880189|   100.0|\n+----+---------+-----------------+-----------------+------------------+------------------+---------------+-----------------+----------------+-----------------+-----------------+--------+\n\n",
       "datasetInfos": [],
       "metadata": {},
       "removedWidgets": [],
       "type": "ansi"
      }
     },
     "output_type": "display_data"
    }
   ],
   "source": [
    "train.select([(count(when(isnan(c), c))/train.count()*100).alias(c) for c in train.columns]).show()"
   ]
  },
  {
   "cell_type": "markdown",
   "metadata": {
    "application/vnd.databricks.v1+cell": {
     "inputWidgets": {},
     "nuid": "6794cf62-8550-4ab3-8ec7-721e3c5b8eb7",
     "showTitle": false,
     "title": ""
    }
   },
   "source": [
    "Nous observons que seule la variables largueur présente 100% de valeurs manquantes, donc, nous la supprimons."
   ]
  },
  {
   "cell_type": "code",
   "execution_count": 0,
   "metadata": {
    "application/vnd.databricks.v1+cell": {
     "inputWidgets": {},
     "nuid": "9cac497b-8e4e-4e58-8570-ce716e087c0f",
     "showTitle": false,
     "title": ""
    }
   },
   "outputs": [
    {
     "data": {
      "text/plain": [
       "+------+---------+-----+-------+-----------+-----------+--------------+--------------+----------+---------+--------+\n",
       "|  prix|categorie|poids|matiere|couleur_mat|type_pierre|couleur_pierre|         forme|type_motif|nb_pierre|longueur|\n",
       "+------+---------+-----+-------+-----------+-----------+--------------+--------------+----------+---------+--------+\n",
       "|105.00|   Autres|  NaN|  Acier|      Blanc|     Strass|duboitierBlanc|duboitierRonde|       NaN|      NaN|     NaN|\n",
       "|109.00|   Autres|  0.8|    NaN|   Bicolore|        NaN|           NaN|           NaN|       NaN|      NaN|     NaN|\n",
       "|109.00|   Autres|  0.8|    NaN|      Jaune|        NaN|           NaN|           NaN|       NaN|      NaN|     NaN|\n",
       "|109.00|   Autres|    1|    NaN|      Blanc|        NaN|           NaN|           NaN|       NaN|      NaN|      45|\n",
       "|109.00|   Autres|    1|    NaN|      Jaune|        NaN|           NaN|           NaN|       NaN|      NaN|      42|\n",
       "|109.00|   Autres|    1|    NaN|      Jaune|        NaN|           NaN|           NaN|       NaN|      NaN|     NaN|\n",
       "|109.00|   Autres| 1.04|    NaN|      Jaune|        NaN|           NaN|           NaN|       NaN|      NaN|      45|\n",
       "|109.00|   Autres|  1.1|    NaN|      Blanc|        NaN|           NaN|           NaN|       NaN|      NaN|      42|\n",
       "|109.00|    Bague|  0.5|     Or|      Blanc|      Oxyde|         Blanc|         Ronde|       NaN|        1|     NaN|\n",
       "|109.00|    Bague| 0.56|     Or|      Blanc|      Oxyde|         Blanc|         Coeur|       Cur|        1|     NaN|\n",
       "|109.00|    Bague| 0.66|     Or|   Bicolore|     Topaze|          Bleu|         Ronde|       NaN|        1|     NaN|\n",
       "|109.00|    Bague| 0.66|     Or|      Jaune|      Oxyde|         Blanc|         Ronde|       NaN|        1|     NaN|\n",
       "|109.00|    Bague| 0.70|     Or|       Rose|      Oxyde|         Blanc|         Ronde|       NaN|       15|     NaN|\n",
       "|109.00|    Bague| 0.74|     Or|       Rose|      Oxyde|         Blanc|         Ronde|    Goutte|      NaN|     NaN|\n",
       "|109.00|    Bague| 0.76|    NaN|      Jaune|        NaN|           NaN|           NaN|       NaN|      NaN|     NaN|\n",
       "|109.00|    Bague|  0.8|    NaN|      Blanc|        NaN|           NaN|           NaN|       NaN|      NaN|     NaN|\n",
       "|109.00|    Bague|  0.8|     Or|      Jaune|      Oxyde|         Blanc|         Ronde|       Cur|       18|     NaN|\n",
       "|109.00|    Bague| 0.85|    NaN|       Rose|        NaN|           NaN|           NaN|       NaN|      NaN|     NaN|\n",
       "|109.00|    Bague| 2.08|    NaN|      Blanc|      Oxyde|delamatireNoir|           NaN|       NaN|      NaN|     NaN|\n",
       "|109.00|    Bague| 4.54| Argent|      Blanc|      Oxyde|         Blanc|         Ronde|       NaN|       38|     NaN|\n",
       "+------+---------+-----+-------+-----------+-----------+--------------+--------------+----------+---------+--------+\n",
       "only showing top 20 rows\n",
       "\n"
      ]
     },
     "metadata": {
      "application/vnd.databricks.v1+output": {
       "addedWidgets": {},
       "arguments": {},
       "data": "+------+---------+-----+-------+-----------+-----------+--------------+--------------+----------+---------+--------+\n|  prix|categorie|poids|matiere|couleur_mat|type_pierre|couleur_pierre|         forme|type_motif|nb_pierre|longueur|\n+------+---------+-----+-------+-----------+-----------+--------------+--------------+----------+---------+--------+\n|105.00|   Autres|  NaN|  Acier|      Blanc|     Strass|duboitierBlanc|duboitierRonde|       NaN|      NaN|     NaN|\n|109.00|   Autres|  0.8|    NaN|   Bicolore|        NaN|           NaN|           NaN|       NaN|      NaN|     NaN|\n|109.00|   Autres|  0.8|    NaN|      Jaune|        NaN|           NaN|           NaN|       NaN|      NaN|     NaN|\n|109.00|   Autres|    1|    NaN|      Blanc|        NaN|           NaN|           NaN|       NaN|      NaN|      45|\n|109.00|   Autres|    1|    NaN|      Jaune|        NaN|           NaN|           NaN|       NaN|      NaN|      42|\n|109.00|   Autres|    1|    NaN|      Jaune|        NaN|           NaN|           NaN|       NaN|      NaN|     NaN|\n|109.00|   Autres| 1.04|    NaN|      Jaune|        NaN|           NaN|           NaN|       NaN|      NaN|      45|\n|109.00|   Autres|  1.1|    NaN|      Blanc|        NaN|           NaN|           NaN|       NaN|      NaN|      42|\n|109.00|    Bague|  0.5|     Or|      Blanc|      Oxyde|         Blanc|         Ronde|       NaN|        1|     NaN|\n|109.00|    Bague| 0.56|     Or|      Blanc|      Oxyde|         Blanc|         Coeur|       Cur|        1|     NaN|\n|109.00|    Bague| 0.66|     Or|   Bicolore|     Topaze|          Bleu|         Ronde|       NaN|        1|     NaN|\n|109.00|    Bague| 0.66|     Or|      Jaune|      Oxyde|         Blanc|         Ronde|       NaN|        1|     NaN|\n|109.00|    Bague| 0.70|     Or|       Rose|      Oxyde|         Blanc|         Ronde|       NaN|       15|     NaN|\n|109.00|    Bague| 0.74|     Or|       Rose|      Oxyde|         Blanc|         Ronde|    Goutte|      NaN|     NaN|\n|109.00|    Bague| 0.76|    NaN|      Jaune|        NaN|           NaN|           NaN|       NaN|      NaN|     NaN|\n|109.00|    Bague|  0.8|    NaN|      Blanc|        NaN|           NaN|           NaN|       NaN|      NaN|     NaN|\n|109.00|    Bague|  0.8|     Or|      Jaune|      Oxyde|         Blanc|         Ronde|       Cur|       18|     NaN|\n|109.00|    Bague| 0.85|    NaN|       Rose|        NaN|           NaN|           NaN|       NaN|      NaN|     NaN|\n|109.00|    Bague| 2.08|    NaN|      Blanc|      Oxyde|delamatireNoir|           NaN|       NaN|      NaN|     NaN|\n|109.00|    Bague| 4.54| Argent|      Blanc|      Oxyde|         Blanc|         Ronde|       NaN|       38|     NaN|\n+------+---------+-----+-------+-----------+-----------+--------------+--------------+----------+---------+--------+\nonly showing top 20 rows\n\n",
       "datasetInfos": [],
       "metadata": {},
       "removedWidgets": [],
       "type": "ansi"
      }
     },
     "output_type": "display_data"
    }
   ],
   "source": [
    "#Suppression des variables ayant plus de 80% de valeurs manquantes \n",
    "#Au sein du train \n",
    "train = train.drop(\"largueur\")\n",
    "#Au sein du test \n",
    "test = test.drop(\"largueur\")\n",
    "\n",
    "#Apercu de la base train \n",
    "train.show()"
   ]
  },
  {
   "cell_type": "code",
   "execution_count": 0,
   "metadata": {
    "application/vnd.databricks.v1+cell": {
     "inputWidgets": {},
     "nuid": "e1e63c31-9ed3-4947-b5b5-d6e7e3e35a61",
     "showTitle": false,
     "title": ""
    }
   },
   "outputs": [
    {
     "data": {
      "text/html": [
       "<font size=4' color='#858846' face=\"sans-serif\">Description de notre variable d'intéret  </font>"
      ]
     },
     "metadata": {
      "application/vnd.databricks.v1+output": {
       "addedWidgets": {},
       "arguments": {},
       "data": "<font size=4' color='#858846' face=\"sans-serif\">Description de notre variable d'intéret  </font>",
       "datasetInfos": [],
       "metadata": {},
       "removedWidgets": [],
       "textData": null,
       "type": "htmlSandbox"
      }
     },
     "output_type": "display_data"
    }
   ],
   "source": [
    "displayHTML(\"\"\"<font size=4' color='#858846' face=\"sans-serif\">Description de notre variable d'intéret  </font>\"\"\")"
   ]
  },
  {
   "cell_type": "markdown",
   "metadata": {
    "application/vnd.databricks.v1+cell": {
     "inputWidgets": {},
     "nuid": "37019525-1f87-4ea3-99b7-d1341b83329e",
     "showTitle": false,
     "title": ""
    }
   },
   "source": [
    "Changement du type de la variable:"
   ]
  },
  {
   "cell_type": "code",
   "execution_count": 0,
   "metadata": {
    "application/vnd.databricks.v1+cell": {
     "inputWidgets": {},
     "nuid": "d33dc758-d5a1-4533-935b-33b9f0e4bfa5",
     "showTitle": false,
     "title": ""
    }
   },
   "outputs": [],
   "source": [
    "train = train.withColumn(\"prix\",train.prix.cast('int'))\n",
    "test = test.withColumn(\"prix\",test.prix.cast('int'))"
   ]
  },
  {
   "cell_type": "markdown",
   "metadata": {
    "application/vnd.databricks.v1+cell": {
     "inputWidgets": {},
     "nuid": "3430d1b0-42c1-4fc2-9892-7605ee35656e",
     "showTitle": false,
     "title": ""
    }
   },
   "source": [
    "- En moyenne le prix est de 259 euros. 50% des articles ont un prix superieur à 179 euros. La mediane est donc bien inferieure à la moyenne. Ce qui indique une presence d'outliers.  \n",
    "- La transformation de la variable d'interet en catégorielle permet de traiter ces outliers."
   ]
  },
  {
   "cell_type": "code",
   "execution_count": 0,
   "metadata": {
    "application/vnd.databricks.v1+cell": {
     "inputWidgets": {},
     "nuid": "d769d689-8e62-40b5-b048-25ba6e151f6e",
     "showTitle": false,
     "title": ""
    }
   },
   "outputs": [
    {
     "data": {
      "text/plain": [
       "+-------+-----------------+\n",
       "|summary|             prix|\n",
       "+-------+-----------------+\n",
       "|  count|             1903|\n",
       "|   mean|259.8838675775092|\n",
       "| stddev|275.5784446314637|\n",
       "|    min|               15|\n",
       "|    25%|              119|\n",
       "|    50%|              179|\n",
       "|    75%|              279|\n",
       "|    max|             3990|\n",
       "+-------+-----------------+\n",
       "\n"
      ]
     },
     "metadata": {
      "application/vnd.databricks.v1+output": {
       "addedWidgets": {},
       "arguments": {},
       "data": "+-------+-----------------+\n|summary|             prix|\n+-------+-----------------+\n|  count|             1903|\n|   mean|259.8838675775092|\n| stddev|275.5784446314637|\n|    min|               15|\n|    25%|              119|\n|    50%|              179|\n|    75%|              279|\n|    max|             3990|\n+-------+-----------------+\n\n",
       "datasetInfos": [],
       "metadata": {},
       "removedWidgets": [],
       "type": "ansi"
      }
     },
     "output_type": "display_data"
    }
   ],
   "source": [
    "#Statistiques descriptives du prix \n",
    "stat_desc = train.select(\"prix\").summary().show()"
   ]
  },
  {
   "cell_type": "markdown",
   "metadata": {
    "application/vnd.databricks.v1+cell": {
     "inputWidgets": {},
     "nuid": "34ee6f16-8a59-4e15-b32c-3ff5fb9f5535",
     "showTitle": false,
     "title": ""
    }
   },
   "source": [
    "Egalement, nous observons que la variable du prix ne suit pas une loi normale. \n",
    "Le boxplot de la variable du prix indique bien des valeurs aberrantes:"
   ]
  },
  {
   "cell_type": "code",
   "execution_count": 0,
   "metadata": {
    "application/vnd.databricks.v1+cell": {
     "inputWidgets": {},
     "nuid": "bd4e2f0d-8346-4fca-a30d-54e463da3b4b",
     "showTitle": false,
     "title": ""
    }
   },
   "outputs": [
    {
     "data": {
      "image/png": "[encoded data removed]"
     },
     "metadata": {
      "application/vnd.databricks.v1+output": {
       "addedWidgets": {},
       "arguments": {},
       "data": "data:image/png;base64,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\n",
       "datasetInfos": [],
       "metadata": {},
       "removedWidgets": [],
       "type": "image"
      }
     },
     "output_type": "display_data"
    }
   ],
   "source": [
    "#Boxplot du prix \n",
    "boxplot_1 = train.select(\"prix\")\n",
    "boxplot_1 = boxplot_1.toPandas()\n",
    "ax = sns.boxplot(x=\"prix\",data=boxplot_1)\n",
    "ax.set_title(\"Boxplot du prix\")\n",
    "ax.set_xlabel('prix')\n",
    "plt.show()"
   ]
  },
  {
   "cell_type": "markdown",
   "metadata": {
    "application/vnd.databricks.v1+cell": {
     "inputWidgets": {},
     "nuid": "077480cb-c565-4cd7-a496-5f91dddc0d27",
     "showTitle": false,
     "title": ""
    }
   },
   "source": [
    "Transformation de la variables continue du prix en une variable categorielle. Nous souhaitons obtenir trois categories de prix. \n",
    "- les prix bas (1)\n",
    "- les prix moyens (2)\n",
    "- les prix eleves (3). \n",
    "\n",
    "Pour obtenir des classes equilibree, nous divisons les prix en trois classes."
   ]
  },
  {
   "cell_type": "code",
   "execution_count": 0,
   "metadata": {
    "application/vnd.databricks.v1+cell": {
     "inputWidgets": {},
     "nuid": "552d2398-d1d5-4d0e-8370-b96b641ad466",
     "showTitle": false,
     "title": ""
    }
   },
   "outputs": [
    {
     "data": {
      "text/plain": [
       "+-----+\n",
       "|cut_1|\n",
       "+-----+\n",
       "|  139|\n",
       "+-----+\n",
       "\n",
       "+-----+\n",
       "|cut_2|\n",
       "+-----+\n",
       "|  229|\n",
       "+-----+\n",
       "\n"
      ]
     },
     "metadata": {
      "application/vnd.databricks.v1+output": {
       "addedWidgets": {},
       "arguments": {},
       "data": "+-----+\n|cut_1|\n+-----+\n|  139|\n+-----+\n\n+-----+\n|cut_2|\n+-----+\n|  229|\n+-----+\n\n",
       "datasetInfos": [],
       "metadata": {},
       "removedWidgets": [],
       "type": "ansi"
      }
     },
     "output_type": "display_data"
    }
   ],
   "source": [
    "train.agg(F.percentile_approx(\"prix\", 0.3333).alias(\"cut_1\")).show()\n",
    "train.agg(F.percentile_approx(\"prix\", 0.6666).alias(\"cut_2\")).show()"
   ]
  },
  {
   "cell_type": "code",
   "execution_count": 0,
   "metadata": {
    "application/vnd.databricks.v1+cell": {
     "inputWidgets": {},
     "nuid": "c41809f2-0e94-4350-86b6-e135b8170e05",
     "showTitle": false,
     "title": ""
    }
   },
   "outputs": [],
   "source": [
    "#Changements sur le train \n",
    "train = train.withColumn(\"prix_cat\", F.when(train.prix<=139, '1').when(train.prix>229, '3').otherwise('2'))\n",
    "train = train.drop(\"prix\")\n",
    "#Changements sur le test \n",
    "test = test.withColumn(\"prix_cat\", F.when(test.prix<=139, '1').when(test.prix>229, '3').otherwise('2'))\n",
    "test = test.drop(\"prix\")"
   ]
  },
  {
   "cell_type": "code",
   "execution_count": 0,
   "metadata": {
    "application/vnd.databricks.v1+cell": {
     "inputWidgets": {},
     "nuid": "e89102ab-f5e0-491e-bee5-1bc621e23919",
     "showTitle": false,
     "title": ""
    }
   },
   "outputs": [
    {
     "data": {
      "text/html": [
       "<font size=4' color='#858846' face=\"sans-serif\">Descriptions et changements des variables continues </font>"
      ]
     },
     "metadata": {
      "application/vnd.databricks.v1+output": {
       "addedWidgets": {},
       "arguments": {},
       "data": "<font size=4' color='#858846' face=\"sans-serif\">Descriptions et changements des variables continues </font>",
       "datasetInfos": [],
       "metadata": {},
       "removedWidgets": [],
       "textData": null,
       "type": "htmlSandbox"
      }
     },
     "output_type": "display_data"
    }
   ],
   "source": [
    "displayHTML(\"\"\"<font size=4' color='#858846' face=\"sans-serif\">Descriptions et changements des variables continues </font>\"\"\")"
   ]
  },
  {
   "cell_type": "code",
   "execution_count": 0,
   "metadata": {
    "application/vnd.databricks.v1+cell": {
     "inputWidgets": {},
     "nuid": "200a3076-3b8f-48e3-8aa4-9f43f02292b9",
     "showTitle": false,
     "title": ""
    }
   },
   "outputs": [
    {
     "data": {
      "text/html": [
       "<font size=3' color='black' face=\"sans-serif\"> Poids de l'article </font>"
      ]
     },
     "metadata": {
      "application/vnd.databricks.v1+output": {
       "addedWidgets": {},
       "arguments": {},
       "data": "<font size=3' color='black' face=\"sans-serif\"> Poids de l'article </font>",
       "datasetInfos": [],
       "metadata": {},
       "removedWidgets": [],
       "textData": null,
       "type": "htmlSandbox"
      }
     },
     "output_type": "display_data"
    }
   ],
   "source": [
    "displayHTML(\"\"\"<font size=3' color='black' face=\"sans-serif\"> Poids de l'article </font>\"\"\")"
   ]
  },
  {
   "cell_type": "markdown",
   "metadata": {
    "application/vnd.databricks.v1+cell": {
     "inputWidgets": {},
     "nuid": "eafe8823-f5c2-4d95-94c1-41fc04129f06",
     "showTitle": false,
     "title": ""
    }
   },
   "source": [
    "Le poids de l'article presente 2,31% de valeurs manquantes. Ce chiffre étant faible, nous remplacons ces valeurs manquantes par la mediane de la variable car cette derniere presente des outliers comme le confirme le boxplot ci-dessus:"
   ]
  },
  {
   "cell_type": "code",
   "execution_count": 0,
   "metadata": {
    "application/vnd.databricks.v1+cell": {
     "inputWidgets": {},
     "nuid": "2d6f4fff-450c-4bfe-a6d9-4064beb10812",
     "showTitle": false,
     "title": ""
    }
   },
   "outputs": [
    {
     "data": {
      "image/png": "[encoded data removed]"
     },
     "metadata": {
      "application/vnd.databricks.v1+output": {
       "addedWidgets": {},
       "arguments": {},
       "data": "data:image/png;base64,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\n",
       "datasetInfos": [],
       "metadata": {},
       "removedWidgets": [],
       "type": "image"
      }
     },
     "output_type": "display_data"
    }
   ],
   "source": [
    "#Boxplot du poids \n",
    "df_poids = train.select(\"poids\")\n",
    "df_poids = train.withColumn(\"poids\",df_poids.poids.cast('float'))\n",
    "boxplot_2 = df_poids.toPandas()\n",
    "ax = sns.boxplot(x=\"poids\",data=boxplot_2)\n",
    "ax.set_title(\"Boxplot du poids\")\n",
    "ax.set_xlabel('poids')\n",
    "plt.show()"
   ]
  },
  {
   "cell_type": "markdown",
   "metadata": {
    "application/vnd.databricks.v1+cell": {
     "inputWidgets": {},
     "nuid": "28808275-cc7e-4ec1-8d1c-cffbe3ed1267",
     "showTitle": false,
     "title": ""
    }
   },
   "source": [
    "La median du poids est de 1.28 gramme. Nous remplacons donc les valeurs manquantes par cette valeur:"
   ]
  },
  {
   "cell_type": "code",
   "execution_count": 0,
   "metadata": {
    "application/vnd.databricks.v1+cell": {
     "inputWidgets": {},
     "nuid": "cf894dca-36f5-48ed-881d-529c7a86bd38",
     "showTitle": false,
     "title": ""
    }
   },
   "outputs": [
    {
     "data": {
      "text/plain": [
       "+-----+\n",
       "|cut_1|\n",
       "+-----+\n",
       "| 1.05|\n",
       "+-----+\n",
       "\n",
       "+-----+\n",
       "|cut_2|\n",
       "+-----+\n",
       "| 1.68|\n",
       "+-----+\n",
       "\n"
      ]
     },
     "metadata": {
      "application/vnd.databricks.v1+output": {
       "addedWidgets": {},
       "arguments": {},
       "data": "+-----+\n|cut_1|\n+-----+\n| 1.05|\n+-----+\n\n+-----+\n|cut_2|\n+-----+\n| 1.68|\n+-----+\n\n",
       "datasetInfos": [],
       "metadata": {},
       "removedWidgets": [],
       "type": "ansi"
      }
     },
     "output_type": "display_data"
    }
   ],
   "source": [
    "#stat_desc_poids = df_poids.select(\"poids\").summary().show()\n",
    "\n",
    "#Changement des valeurs manquantes \n",
    "train = train.na.fill(value=\"1.28\",subset=[\"poids\"])\n",
    "test = test.na.fill(value=\"1.28\",subset=[\"poids\"])\n",
    "\n",
    "#Changement du type de la variable \n",
    "train = train.withColumn(\"poids\",train.poids.cast('float'))\n",
    "test = test.withColumn(\"poids\",test.poids.cast('float'))\n",
    "\n",
    "#Point de coupure pour tranformer la variable en categorielle \n",
    "train.agg(F.percentile_approx(\"poids\", 0.3333).alias(\"cut_1\")).show()\n",
    "train.agg(F.percentile_approx(\"poids\", 0.6666).alias(\"cut_2\")).show()"
   ]
  },
  {
   "cell_type": "markdown",
   "metadata": {
    "application/vnd.databricks.v1+cell": {
     "inputWidgets": {},
     "nuid": "dce7a637-119b-4a3c-95dd-2dae66fa8f96",
     "showTitle": false,
     "title": ""
    }
   },
   "source": [
    "Nous souhaitons obtenir trois categories de poids. Les poids faibles (1), les poids moyens (2) et les poids eleves (3):"
   ]
  },
  {
   "cell_type": "code",
   "execution_count": 0,
   "metadata": {
    "application/vnd.databricks.v1+cell": {
     "inputWidgets": {},
     "nuid": "0c5c2410-e75d-40b5-9a8e-835fc8583247",
     "showTitle": false,
     "title": ""
    }
   },
   "outputs": [],
   "source": [
    "#Changements sur le train \n",
    "train = train.withColumn(\"poids_cat\", F.when(train.poids<=1.05, '1').when(train.poids>1.6, '3').otherwise('2'))\n",
    "train = train.drop(\"poids\")\n",
    "#Changements sur le test \n",
    "test = test.withColumn(\"poids_cat\", F.when(test.poids<=1.05, '1').when(test.poids>1.6, '3').otherwise('2'))\n",
    "test = test.drop(\"poids\")"
   ]
  },
  {
   "cell_type": "code",
   "execution_count": 0,
   "metadata": {
    "application/vnd.databricks.v1+cell": {
     "inputWidgets": {},
     "nuid": "36269289-7570-4181-bf98-a7f4ae2d228e",
     "showTitle": false,
     "title": ""
    }
   },
   "outputs": [
    {
     "data": {
      "text/html": [
       "<font size=3' color='black' face=\"sans-serif\"> Longueur de l'article </font>"
      ]
     },
     "metadata": {
      "application/vnd.databricks.v1+output": {
       "addedWidgets": {},
       "arguments": {},
       "data": "<font size=3' color='black' face=\"sans-serif\"> Longueur de l'article </font>",
       "datasetInfos": [],
       "metadata": {},
       "removedWidgets": [],
       "textData": null,
       "type": "htmlSandbox"
      }
     },
     "output_type": "display_data"
    }
   ],
   "source": [
    "displayHTML(\"\"\"<font size=3' color='black' face=\"sans-serif\"> Longueur de l'article </font>\"\"\")"
   ]
  },
  {
   "cell_type": "markdown",
   "metadata": {
    "application/vnd.databricks.v1+cell": {
     "inputWidgets": {},
     "nuid": "4e579b60-969f-44dc-a79a-783a273f1ade",
     "showTitle": false,
     "title": ""
    }
   },
   "source": [
    "Il est difficile d'interpreter les statistiques de la longueur car elle presente 60% de valeurs manquantes. Cependant, nous savons que lorsque cette variable n'est pas renseignees, cela signifie que: le produit ne possedent pas de longueur. A titre d'exemple, les bagues ou les alliances n'ont pas de longueur. Les valeurs manquantes se trouveront donc dans une nouvelle categorie. \n",
    "\n",
    "La variable longueur presente des outliers, en effet sa moyenne de 35 est inferieure a sa mediane de 42. Cela signifie que lorsque la variable longueur est renseignee, 50% des longueurs sont inferieures à 42. La longueur maximale des bijoux est de 120 cm et la longueur minimale est de 16 cm."
   ]
  },
  {
   "cell_type": "code",
   "execution_count": 0,
   "metadata": {
    "application/vnd.databricks.v1+cell": {
     "inputWidgets": {},
     "nuid": "c543baa0-0d08-4660-9936-040a1b457dfe",
     "showTitle": false,
     "title": ""
    }
   },
   "outputs": [
    {
     "data": {
      "image/png": "[encoded data removed]"
     },
     "metadata": {
      "application/vnd.databricks.v1+output": {
       "addedWidgets": {},
       "arguments": {},
       "data": "data:image/png;base64,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\n",
       "datasetInfos": [],
       "metadata": {},
       "removedWidgets": [],
       "type": "image"
      }
     },
     "output_type": "display_data"
    },
    {
     "data": {
      "text/plain": [
       "+-------+------------------+\n",
       "|summary|          longueur|\n",
       "+-------+------------------+\n",
       "|  count|               756|\n",
       "|   mean|35.383597883597886|\n",
       "| stddev|13.263641315467366|\n",
       "|    min|                16|\n",
       "|    25%|                18|\n",
       "|    50%|                42|\n",
       "|    75%|                43|\n",
       "|    max|               120|\n",
       "+-------+------------------+\n",
       "\n"
      ]
     },
     "metadata": {
      "application/vnd.databricks.v1+output": {
       "addedWidgets": {},
       "arguments": {},
       "data": "+-------+------------------+\n|summary|          longueur|\n+-------+------------------+\n|  count|               756|\n|   mean|35.383597883597886|\n| stddev|13.263641315467366|\n|    min|                16|\n|    25%|                18|\n|    50%|                42|\n|    75%|                43|\n|    max|               120|\n+-------+------------------+\n\n",
       "datasetInfos": [],
       "metadata": {},
       "removedWidgets": [],
       "type": "ansi"
      }
     },
     "output_type": "display_data"
    }
   ],
   "source": [
    "df_longueur = train.select(\"longueur\")\n",
    "df_longueur = train.withColumn(\"longueur\",df_longueur.longueur.cast('int'))\n",
    "\n",
    "#Boxplot de la longueur \n",
    "boxplot_3 = df_longueur.select(\"longueur\")\n",
    "boxplot_3 = boxplot_3.toPandas()\n",
    "ax = sns.boxplot(x=\"longueur\",data=boxplot_3)\n",
    "ax.set_title(\"Boxplot de la longueur\")\n",
    "ax.set_xlabel('longueur')\n",
    "plt.show()\n",
    "\n",
    "#Statistiques descriptives de la longueur\n",
    "stat_desc_longueur = df_longueur.select(\"longueur\").summary().show()"
   ]
  },
  {
   "cell_type": "markdown",
   "metadata": {
    "application/vnd.databricks.v1+cell": {
     "inputWidgets": {},
     "nuid": "f348c8b5-6966-4a09-9354-534fccec1063",
     "showTitle": false,
     "title": ""
    }
   },
   "source": [
    "Nous souhaitons obtenir trois categories de longueur. Les longueurs courtes (1), les longueurs longues (2) et pas de longueur (3)."
   ]
  },
  {
   "cell_type": "code",
   "execution_count": 0,
   "metadata": {
    "application/vnd.databricks.v1+cell": {
     "inputWidgets": {},
     "nuid": "eab63e1c-9418-43fb-814f-8a23b49ae5cb",
     "showTitle": false,
     "title": ""
    }
   },
   "outputs": [],
   "source": [
    "#Changements sur le train \n",
    "train = train.withColumn(\"longueur_cat\", F.when(train.longueur<=42, '1').when(train.longueur>42, '2').otherwise('3'))\n",
    "train = train.drop(\"longueur\")\n",
    "#Changements sur le test \n",
    "test = test.withColumn(\"longueur_cat\", F.when(test.longueur<=42, '1').when(test.longueur>42, '2').otherwise('3'))\n",
    "test = test.drop(\"longueur\")"
   ]
  },
  {
   "cell_type": "code",
   "execution_count": 0,
   "metadata": {
    "application/vnd.databricks.v1+cell": {
     "inputWidgets": {},
     "nuid": "f87b4f3c-c5c2-4361-a69b-d705d8529ed4",
     "showTitle": false,
     "title": ""
    }
   },
   "outputs": [
    {
     "data": {
      "text/html": [
       "<font size=3' color='black' face=\"sans-serif\"> Nombre de pierres </font>"
      ]
     },
     "metadata": {
      "application/vnd.databricks.v1+output": {
       "addedWidgets": {},
       "arguments": {},
       "data": "<font size=3' color='black' face=\"sans-serif\"> Nombre de pierres </font>",
       "datasetInfos": [],
       "metadata": {},
       "removedWidgets": [],
       "textData": null,
       "type": "htmlSandbox"
      }
     },
     "output_type": "display_data"
    }
   ],
   "source": [
    "displayHTML(\"\"\"<font size=3' color='black' face=\"sans-serif\"> Nombre de pierres </font>\"\"\")"
   ]
  },
  {
   "cell_type": "markdown",
   "metadata": {
    "application/vnd.databricks.v1+cell": {
     "inputWidgets": {},
     "nuid": "33238d48-cad2-403d-8695-b4d95160d699",
     "showTitle": false,
     "title": ""
    }
   },
   "source": [
    "Il est difficile d'interpreter les statistiques du nombre de pierres car elle presente 40% de valeurs manquantes. Cependant, nous savons que lorsque cette variable n'est pas renseignees, cela signifie que le nombre de pierre est de 0.\n",
    "\n",
    "Apres changement des valeurs manquantes, la variable \"nb_pierre\" presente des outliers, en effet sa moyenne de 9 est superieur a sa mediane de 1. 50% des bijoux ont un nombre de pierres inferieur a 1. Le nombre maximal de pierres est de 240 et Le nombre minimal de pierres est de 0."
   ]
  },
  {
   "cell_type": "code",
   "execution_count": 0,
   "metadata": {
    "application/vnd.databricks.v1+cell": {
     "inputWidgets": {},
     "nuid": "314d6fba-3b7a-4c5a-8537-1b13dcb809c5",
     "showTitle": false,
     "title": ""
    }
   },
   "outputs": [
    {
     "data": {
      "text/plain": [
       "+-------+------------------+\n",
       "|summary|         nb_pierre|\n",
       "+-------+------------------+\n",
       "|  count|              1903|\n",
       "|   mean| 9.703100367840252|\n",
       "| stddev|19.832888220241323|\n",
       "|    min|                 0|\n",
       "|    25%|                 0|\n",
       "|    50%|                 1|\n",
       "|    75%|                12|\n",
       "|    max|               240|\n",
       "+-------+------------------+\n",
       "\n"
      ]
     },
     "metadata": {
      "application/vnd.databricks.v1+output": {
       "addedWidgets": {},
       "arguments": {},
       "data": "+-------+------------------+\n|summary|         nb_pierre|\n+-------+------------------+\n|  count|              1903|\n|   mean| 9.703100367840252|\n| stddev|19.832888220241323|\n|    min|                 0|\n|    25%|                 0|\n|    50%|                 1|\n|    75%|                12|\n|    max|               240|\n+-------+------------------+\n\n",
       "datasetInfos": [],
       "metadata": {},
       "removedWidgets": [],
       "type": "ansi"
      }
     },
     "output_type": "display_data"
    },
    {
     "data": {
      "image/png": "[encoded data removed]"
     },
     "metadata": {
      "application/vnd.databricks.v1+output": {
       "addedWidgets": {},
       "arguments": {},
       "data": "data:image/png;base64,iVBORw0KGgoAAAANSUhEUgAAAWcAAAEWCAYAAAC6xlbpAAAAOXRFWHRTb2Z0d2FyZQBNYXRwbG90bGliIHZlcnNpb24zLjQuMiwgaHR0cHM6Ly9tYXRwbG90bGliLm9yZy8rg+JYAAAACXBIWXMAAAsTAAALEwEAmpwYAAAY2UlEQVR4nO3df5TddX3n8ec7MwFGBggkkQMBMsKUSmhchBwryurEBckPNFQ9YqUklCqrsQk/1t2yS46bbNs9ul1iMbV6oNgUBdFatERDKijBFcE6gwREsB3pRImIISiQ8KMGPvvH93vHO3funcyQmXs/yTwf59wz35+fH9/vndf9zPc7851IKSFJysuUVjdAkjSc4SxJGTKcJSlDhrMkZchwlqQMGc6SlCHDeRKJiBQR3RNU9uqI+NxElD2eJvIY1Kmrq6yvfQLKfjAiesa7XOXDcG6BiBiIiOciYmdE/DIivhYRx7a6XRURcWFEfLvV7VBjKaWTU0qbW90OTRzDuXXellLqBI4CHgfWtbg9qjERI95Wq9en/bGf+wPDucVSSs8DXwLmVJZFxGERcX1EbI+IrRGxKiKmRMQREfFoRLyt3K4zIvojYmk5vz4iPh0Rt0XEMxFxZ0TMrlfvCHWcBHwaOL0c2f+qwf6vKst/JiJuA2ZUreuJiEdrth+IiDMblLU+Ij5Z/gTxTER8NyJOqFr/hoj4XkQ8VX59Q9W6zRHxZxHxnbK9GyJiekTcEBFPl9t31VS5KCIeiYgnIuIvImJKWdaFEXFXRHw8InYAqyPiwIj4vxHxk4h4vDy+HQ360VZu+0REPAIsrnPMr4uIxyJiW9nutgZlrY6IL0XEF8pjcm9E/Id6x7M8b1dExI8jYkdEfDEijijXVS6t/FFE/AT45t72U81hOLdYRLwCOA+4p2rxOuAw4HjgzcBS4A9TSk8CFwHXRsQrgY8D96WUrq/a93zgTynC8j7ghgZVN6rjIeADwN0ppc6U0rQG+98I9JX1/CmwbPS9rus9wBrgcKAf+HOAMmS+BnwCmA6sBb4WEdNr9r0AmAWcANwN/C1wBPAQ8D9r6vo9YB5wKrCE4phW/C7wCHBk2YaPAicCpwDdZR0fadCH9wPnAK8ty39Xzfr1wO6ynNcCbwXe16Asyrb9fdmPG4GvRMTUOtutAM6lOI9HA78EPlmzzZuBk4Czx6GfaoaUkq8mv4ABYCfwK+DXwM+AueW6NuDfgTlV2/9nYHPV/DrgAWAbML1q+Xrgpqr5TuBF4NhyPlF8441YB3Ah8O0R2n8cRcgcXLXsRuBz5XQP8GidPp/ZoLz1wN9UzS8CHi6nLwD+uWb7u4ELy+nNwJVV664Cbq2afxvFB1hlPgELquaXA9+o6vdPqtYFsAs4oWrZ6cC/NejHN4EPVM2/tayvnSIEXwA6qtb/PnBHg7JWA/dUzU8BHgP+Y+3xpPgA+k9V2x5Vvq/aga6yDcdXrd+rfvpqzstrTa1zbkrp9vLH2iXAnRExh+IbaSqwtWrbrRQjmYprgD8G/ndKaUdNuT+tTKSUdkbEkxSjqZ9WbTNjFHWM5GjglymlXTX7781NzZ9XTT9L8cFSqWtrzba1bX28avq5OvOdDFV9LLaWddRbNxN4BdAXEZVlQfHhVk/tca5u92yKY/5YVVlTaravVX0uXyovFR1dZ7vZwJcj4qWqZS9SfCAMK6vO/Fj7qSbwskaLpZReTCndTPHNdAbwBMWop/pa8XEUo2TKML8GuB5YHsN/LWwwICOik+JH4p/VbDNiHRQfECN5DDg8Ig6u2b9iF8U3e6UdbRQB8HL8rKadlbq21dl2tKo/RI5j6PGp7vsTFOF+ckppWvk6LBU3cut5rE7ZFT+lGDnPqCrr0JTSyaNpZ3ld/BiGn8tK2Quryp2WUjoopVR9jGrP6d70U01gOLdYFJZQXGt9KKX0IvBF4M8j4pDyht7lQOV3iP8HxTfWRcBfANfX3FRaFBFnRMQBFNeC70kpDRk1jaKOx4FjyjKGSSltBXqBNRFxQEScQXH5oOJfgIMiYnF5jXQVcODLODwAG4ETI+K9EdEeEedR3Dz96sssD+C/RsThUfz64iXAF+ptlFJ6CbgW+Hh5jZ+ImBURZ9fbnuKYroyIYyLicOCKqrIeA74OXBURh5Y38U6IiDeP0M7TIuIdUfw2xaUU4X5Pne0+TXEuZ5dtnFm+p0blZfRTTWA4t86GiNgJPE1xQ2ZZSunBct0KitHnI8C3Ka7nfiYiTqMI0aVlwH6MIqivqCr3RoobYE8CpwF/0KD+unWU674JPAj8PCKeaLD/eyluKj1Z1jd4UzKl9BTFtdy/oRjh7gIerVPGHpWXbc4B/guwA/hvwDkppUbtGo1/pLiZeR/FzcbrRtj2TyhuUN4TEU8DtwO/3WDba4F/ArYA9wI316xfChwA/JDipt2XKK4Pj9TO88ptLwDekVL6dZ3trgZuAb4eEc9QBPjvjlBuPWPpp5ogUvJh+/uLiFhPcSNuVavbor0TEauB7pRSow9X7eccOUtShgxnScqQlzUkKUOOnCUpQ2P6I5QZM2akrq6uCWqKJO2f+vr6nkgpjel3/ccUzl1dXfT29o6tVZI0yUVE7V+57pGXNSQpQ4azJGXIcJakDBnOkpQhw1mSMmQ4S1KGDGdJypDhLEkZMpwlKUOGsyRlyHCWpAwZzpKUIcNZkjJkOEtShgxnScqQ4SxJGTKcJSlDhrMkZchwlqQMjel/CL5c69at48477wRg1qxZY96/u7ubFStWjHezJClbTQnn/v5+tj+xA9ra+fkLY6uy7dknJ6hVkpSvpoQzAG3tvPiK6Tz36kVj2q3j4Y0T1CBJypfXnCUpQ4azJGXIcJakDBnOkpQhw1mSMmQ4S1KGDGdJypDhLEkZMpwlKUOGsyRlyHCWpAwZzpKUIcNZkjJkOEtShgxnScqQ4SxJGTKcJSlDhrMkZchwlqQMGc6SlCHDWZIyZDhLUoYMZ0nKkOEsSRkynCUpQ4azJGXIcJakDBnOkpQhw1mSMmQ4S1KGDGdJypDhLEkZMpwlKUOGsyRlyHCWpAwZzpKUIcNZkjJkOEtShgxnScqQ4SxJGTKcJSlDTQnnbdu2wUsvNqOqMVm3bh3r1q1rdTMkaZj2ZlTy3HPPQUrNqGpM+vv7W90ESarLyxqSlCHDWZIyZDhLUoYMZ0nKkOEsSRkynCUpQ4azJGXIcJakDBnOkpQhw1mSMmQ4S1KGDGdJypDhLEkZMpwlKUOGsyRlyHCWpAwZzpKUIcNZkjJkOEtShgxnScqQ4SxJGTKcJSlDhrMkZchwlqQMGc6SlCHDWZIyZDhLUoYMZ0nKkOEsSRkynCUpQ4azJGXIcJakDBnOkpQhw1mSMmQ4S1KGDGdJypDhLEkZMpwlKUOTPpy3b99OT08PH/rQh+jp6RnyuvTSS4fMn3vuuVx77bX09PTwlre8hZ6eHubPn8+73/1uenp6WLJkCT09PVx33XWcc845g/tdfPHF7Nixg/7+fhYvXkxfXx8rV64cXLZw4ULOOuss5s+fz4YNGwbLfuc738kNN9wwWN/8+fPp6+sb3Ofss89m6dKlLFy4kN7eXlauXMkdd9zB/Pnzueiii+jr62PhwoWD9QODbejv7wdgx44dQ9pSWVe9vJEdO3awfPly3ve+97F8+XL6+/tZuXIl/f39LF++nA9+8IOD+9eW16j82vY1qndPbRtvzaqztp7RHI9WGM3xyLXtY9WK9xtApJRGvfG8efNSb2/vmCtZvHgxO3c9y4uHHMlzr140pn07Ht7IaccfydVXXz3mevfkkksuYcuWLeNebj1Llixhy5YtDAwM0NnZya5du3j7298+uKwiIhjpnHR2djJjxowh+1SW79q1i7a2Nnbv3j24bOfOnYP1X3bZZVx44YUMDAzQ1dXF+vXrWbt2LRs2bBjSlq6uLl7zmtcMLr/sssvqtmXt2rXccsstg/NdXV1s3bqV2bNnD7avUm91PfXmK2rb16jePbVtvDWrztp6RnM8WmE0xyPXto/VeJz7iOhLKc0byz6TeuS8ffv2ptX11a9+dTCwdu7cSUqJjRs3DgvZPX1Y7ty5c9g+1WVWgrmyrGLjxo309vYO7jswMEBfXx+bNm0a1paBgQE2btxISolNmzbVHTHs2LGDTZs2DVk2MDBASmlI+2699Vb6+/sH69m0adOw+epRYnUb6o24KvWO1Lbx1qw6a+upPV+5jEBHczxGcy73Ba14v1VkP3I++L6bOOSAoLu7e8z17kmzRs25qB5JV+aff/75IYFeq729ncWLFw8bMVRGE3t6/0QEs2fP5tFHH2X37t20t7dzzDHHDJmvlF8ZaVXUG3GtXbuWjRs3Dtt3IjWrztp6DjrooCHnK5cR6GiOx2jO5b5gvM79hIycI+LiiOiNiN5mjjQ1/qq/0SvzIwUzwO7du7ntttuGLb/99tv3GMzA4Ei6Us/u3buHzVfKr/2JoN5PCLfffnvdfSdSs+qsraf2fNU7Hq0wmuMxmnO5L2jF+62ifU8bpJSuAa6BYuQ84S2q8dJBh9I9Qdece3p6xr3MnL3ckfNZZ501bPmZZ545biPnSvldXV3DRlv16q0eydRr23hrVp219dQbOedgNMdjNOdyX9CK91vFpL7mfPTRRzetrra2tmHLpk6d2rT6p06dyurVq4csW7NmDVOmTKnblvb24nO7ra2NpUuXDitv2bJlo2r/1KlTWbVq1WA9bW1tw+Yr5a9atWrIvrXzlXrr7TuRmlVnbT2156ve8WiF0RyP0ZzLfUEr3m8VkzqcZ86c2bS6zjnnnMHRQ2dnJxHBokWLho0oImLEcjo7O+uOQiplVkK1sqxi0aJFzJs3b3Dfrq4uTjvtNBYsWDCsLV1dXSxatIiIYMGCBUyfPn1YfdOnT2fBggVDlnV1dRERQ9q3cOFCuru7B+tZsGDBsPlK+d3d3UPaUO8+Q6Xekdo23ppVZ209tedrIu67vByjOR6jOZf7gla83yomdTjDb0bPJ5988rB1p5xyypD5adOmcf755wMMfppGBK985SsBOOywwwC44IILhgTjiSeeyNKlS1m1ahUHH3wwa9asYe7cuYPLOjo6mDp1KhHB5ZdfPlj29OnTef/73z9YX0SwZs2awX0OPPBAjjvuODo6Oli9ejVz587lyiuvJCI4/vjjWbNmDR0dHYP1A4NtqIxkli1bNqQtlXXVyxtZtmwZc+bMobu7mzlz5rBq1Srmzp3LqlWrmDNnDieddNLg/rXlNSq/tn2N6t1T28Zbs+qsrWc0x6MVRnM8cm37WLXi/Qb7wG9rTPTvOQMTUrYkVfh7zpK0nzCcJSlDhrMkZchwlqQMGc6SlCHDWZIyZDhLUoYMZ0nKkOEsSRkynCUpQ4azJGXIcJakDBnOkpQhw1mSMmQ4S1KGDGdJypDhLEkZMpwlKUOGsyRlyHCWpAwZzpKUIcNZkjJkOEtShgxnScqQ4SxJGTKcJSlDhrMkZchwlqQMGc6SlCHDWZIyZDhLUoYMZ0nKkOEsSRkynCUpQ4azJGXIcJakDBnOkpQhw1mSMtTejEo6OjrY+exzzahqTLq7u1vdBEmqqynhPGvWLLb/8qlmVDUmK1asaHUTJKkuL2tIUoYMZ0nKkOEsSRkynCUpQ4azJGXIcJakDBnOkpQhw1mSMmQ4S1KGDGdJypDhLEkZMpwlKUOGsyRlyHCWpAwZzpKUIcNZkjJkOEtShgxnScqQ4SxJGTKcJSlDhrMkZchwlqQMGc6SlCHDWZIyZDhLUoYMZ0nKkOEsSRkynCUpQ4azJGXIcJakDBnOkpQhw1mSMmQ4S1KGDGdJypDhLEkZMpwlKUOGsyRlyHCWpAwZzpKUIcNZkjLU3rSaXtxN27M76Hh445h2a3v2SeDIiWmTJGWqKeHc3d3Ntm3bAJg1a6xBeyTd3d3j3yhJyliklEa98bx581Jvb+8ENkeS9j8R0ZdSmjeWfbzmLEkZMpwlKUOGsyRlyHCWpAwZzpKUIcNZkjJkOEtShgxnScqQ4SxJGTKcJSlDhrMkZchwlqQMGc6SlCHDWZIyZDhLUoYMZ0nKkOEsSRkynCUpQ4azJGXIcJakDI3pH7xGxHZg68usawbwxMvcd183mfsOk7v/k7nvMLn7X9332SmlmWPZeUzhvDciones/312fzGZ+w6Tu/+Tue8wufu/t333soYkZchwlqQMNTOcr2liXbmZzH2Hyd3/ydx3mNz936u+N+2asyRp9LysIUkZMpwlKUMTHs4RsSAifhQR/RFxxUTXl4OIGIiIByLivojoLZcdERG3RcS/ll8Pb3U7x0NEfCYifhERP6haVrevUfhE+V64PyJObV3Lx0eD/q+OiG3l+b8vIhZVrfvvZf9/FBFnt6bV4yMijo2IOyLihxHxYERcUi7f78//CH0fv3OfUpqwF9AG/Bg4HjgA2ALMmcg6c3gBA8CMmmX/B7iinL4C+Fir2zlOfX0TcCrwgz31FVgE3AoE8Hrgu61u/wT1fzXw4Trbzim/Bw4EXlV+b7S1ug970fejgFPL6UOAfyn7uN+f/xH6Pm7nfqJHzq8D+lNKj6SU/h24CVgywXXmagnwd+X03wHntq4p4yel9C3gyZrFjfq6BLg+Fe4BpkXEUU1p6ARp0P9GlgA3pZReSCn9G9BP8T2yT0opPZZSurecfgZ4CJjFJDj/I/S9kTGf+4kO51nAT6vmH2XkDuwvEvD1iOiLiIvLZUemlB4rp38OHNmapjVFo75OpvfDH5c/un+m6hLWftv/iOgCXgt8l0l2/mv6DuN07r0hODHOSCmdCiwEPhQRb6pemYqfcybF7zBOpr5W+RRwAnAK8BhwVUtbM8EiohP4B+DSlNLT1ev29/Nfp+/jdu4nOpy3AcdWzR9TLtuvpZS2lV9/AXyZ4seXxys/wpVff9G6Fk64Rn2dFO+HlNLjKaUXU0ovAdfymx9f97v+R8RUinC6IaV0c7l4Upz/en0fz3M/0eH8PeC3IuJVEXEA8B7glgmus6Ui4uCIOKQyDbwV+AFFv5eVmy0D/rE1LWyKRn29BVha3rV/PfBU1Y+/+42a66i/R3H+oej/eyLiwIh4FfBbwD83u33jJSICuA54KKW0tmrVfn/+G/V9XM99E+5qLqK4k/lj4MpW32VtQn+Pp7gruwV4sNJnYDrwDeBfgduBI1rd1nHq7+cpfnz7NcV1tD9q1FeKu/SfLN8LDwDzWt3+Cer/Z8v+3V9+Ux5Vtf2VZf9/BCxsdfv3su9nUFyyuB+4r3wtmgznf4S+j9u598+3JSlD3hCUpAwZzpKUIcNZkjJkOEtShgxnScqQ4SwiIkXEVVXzH46I1eNU9s7xKGcM9W2OiL3+h6IR8fbJ8hRF5clwFsALwDsiYkYrKo+I9lbUO5KU0i0ppY+OdvvaPuTYJ+1bDGcB7Kb4f2eX1a6IiK6I+Gb5IJdvRMRx5fL1EfGpiLgnIh6JiJ7yQS8PRcT6mjI+Xj7z9hsRMbNctjki/jKK511fEhGnRcSd5cOi/qnqz39Xls/MvT8ibqrTvo6IuKms98tAR9W6t0bE3RFxb0T8ffkchNr9N0fE1eWzd38QEa8rl18YEX9VTs+MiH+IiO+VrzeWy1dHxGcj4i7gs3XmG+335vjN836/X/mLUmmIVv+lja/Wv4CdwKEUz6E+DPgwsLpctwFYVk5fBHylnF5P8QjYoHgc4tPAXIoP/D7glHK7BJxfTn8E+KtyejPw1+X0VOA7wMxy/jzgM+X0z4ADy+lpddp+edW2r6H4oJkHzAC+BRxcrvsT4CN19t8MXFtOv4nyuczAhVVtvZHiYVYAx1H8yS4Uz+7tAzoazDfabwPwxnK6E2hv9XvAV34vf/QSACmlpyPiemAl8FzVqtOBd5TTn6V4kHrFhpRSiogHgMdTSg8ARMSDQBfFn7S+BHyh3P5zwM1V+1eW/zbwO8BtxSMLaKP4k2go/gz2hoj4CvCVOk1/E/CJsg/3R8T95fLXUzzg/K6yzAOAuxt0//Pl/t+KiEMjYlrN+jOBOWU5AIdWjcJvSSlVH6/q+Ub73QWsjYgbgJtTSo82aJcmMcNZ1f4SuBf421Fu/0L59aWq6cp8o/dW9fMCdpVfA3gwpXR6ne0XUwTw24ArI2JuSmn3KNoWwG0ppd8fxba1zzConZ8CvD6l9PyQCorQ3VWzbfV83f2Aj0bE1yiexXBXRJydUnp4FO3UJOI1Zw1KKT0JfJHi4T0V36F4miDA+cD/G2OxU4B3ldPvBb5dZ5sfATMj4nQoHsUYESdHxBTg2JTSHRSXJQ6juAxQ7VtluUTE71Bc2gC4B3hjRHSX6w6OiBMbtPG8cpszKJ6U9lTN+q8DKyozEXHKiD3ew34RcUJK6YGU0scontz46lGWp0nEcFatqyiu11asAP6wvFxwAXDJGMvbBbwuin+A+hbgf9VukIp/YfYu4GMRsYXicsgbKC5vfK68bPJ94BMppV/V7P4poDMiHirL7ivL3E5x3fjzZdvvpnEIPh8R3wc+zdAPpoqVwLzypuQPgQ+MrusN97u0vPl4P8XT7G4dZXmaRHwqnSa1iNhM8Q85e1vdFqmaI2dJypAjZ0nKkCNnScqQ4SxJGTKcJSlDhrMkZchwlqQM/X85FilCRBTUWwAAAABJRU5ErkJggg==\n",
       "datasetInfos": [],
       "metadata": {},
       "removedWidgets": [],
       "type": "image"
      }
     },
     "output_type": "display_data"
    },
    {
     "data": {
      "text/plain": [
       "+-----+\n",
       "|cut_1|\n",
       "+-----+\n",
       "|    0|\n",
       "+-----+\n",
       "\n",
       "+-----+\n",
       "|cut_2|\n",
       "+-----+\n",
       "|    6|\n",
       "+-----+\n",
       "\n"
      ]
     },
     "metadata": {
      "application/vnd.databricks.v1+output": {
       "addedWidgets": {},
       "arguments": {},
       "data": "+-----+\n|cut_1|\n+-----+\n|    0|\n+-----+\n\n+-----+\n|cut_2|\n+-----+\n|    6|\n+-----+\n\n",
       "datasetInfos": [],
       "metadata": {},
       "removedWidgets": [],
       "type": "ansi"
      }
     },
     "output_type": "display_data"
    }
   ],
   "source": [
    "#Remplacement des valeurs manquantes par 0 \n",
    "train = train.withColumn(\"nb_pierre\", F.when(isnan(train.nb_pierre), '0').otherwise(train.nb_pierre))\n",
    "test = test.withColumn(\"nb_pierre\", F.when(isnan(test.nb_pierre), '0').otherwise(test.nb_pierre))\n",
    "\n",
    "#Changement du type de la variable \n",
    "train = train.withColumn(\"nb_pierre\",train.nb_pierre.cast('int'))\n",
    "test = test.withColumn(\"nb_pierre\",test.nb_pierre.cast('int'))\n",
    "\n",
    "#Statistiques descriptives \n",
    "stat_desc_pierre = train.select(\"nb_pierre\").summary().show()\n",
    "\n",
    "#Boxplot \n",
    "boxplot_4 = train.select(\"nb_pierre\")\n",
    "boxplot_4 = boxplot_4.toPandas()\n",
    "ax = sns.boxplot(x=\"nb_pierre\",data=boxplot_4)\n",
    "ax.set_title(\"Boxplot du nombre de pierre\")\n",
    "ax.set_xlabel('Nombres de pierres ')\n",
    "plt.show()\n",
    "\n",
    "#Point de coupure pour tranformer la variable en categorielle \n",
    "train.agg(F.percentile_approx(\"nb_pierre\", 0.3333).alias(\"cut_1\")).show()\n",
    "train.agg(F.percentile_approx(\"nb_pierre\", 0.6666).alias(\"cut_2\")).show()"
   ]
  },
  {
   "cell_type": "markdown",
   "metadata": {
    "application/vnd.databricks.v1+cell": {
     "inputWidgets": {},
     "nuid": "324c7fb9-a3e9-4a12-9a43-884918686e0f",
     "showTitle": false,
     "title": ""
    }
   },
   "source": [
    "Nous souhaitons obtenir trois categories du nombre de pierre.  Pas de pierre (1), Nombre moyen de pierres (2) et Nombre eleve de pierres (3):"
   ]
  },
  {
   "cell_type": "code",
   "execution_count": 0,
   "metadata": {
    "application/vnd.databricks.v1+cell": {
     "inputWidgets": {},
     "nuid": "acbbb829-67bc-4a42-962b-16356f17a46a",
     "showTitle": false,
     "title": ""
    }
   },
   "outputs": [
    {
     "data": {
      "text/plain": [
       "+---------+-------+-----------+-----------+--------------+--------------+----------+--------+--------+---------+-------------+\n",
       "|categorie|matiere|couleur_mat|type_pierre|couleur_pierre|         forme|type_motif|longueur|prix_cat|poids_cat|nb_pierre_cat|\n",
       "+---------+-------+-----------+-----------+--------------+--------------+----------+--------+--------+---------+-------------+\n",
       "|   Autres|  Acier|      Blanc|     Strass|duboitierBlanc|duboitierRonde|       NaN|     NaN|       1|        3|            1|\n",
       "|   Autres|    NaN|   Bicolore|        NaN|           NaN|           NaN|       NaN|     NaN|       1|        1|            1|\n",
       "|   Autres|    NaN|      Jaune|        NaN|           NaN|           NaN|       NaN|     NaN|       1|        1|            1|\n",
       "|   Autres|    NaN|      Blanc|        NaN|           NaN|           NaN|       NaN|      45|       1|        1|            1|\n",
       "|   Autres|    NaN|      Jaune|        NaN|           NaN|           NaN|       NaN|      42|       1|        1|            1|\n",
       "|   Autres|    NaN|      Jaune|        NaN|           NaN|           NaN|       NaN|     NaN|       1|        1|            1|\n",
       "|   Autres|    NaN|      Jaune|        NaN|           NaN|           NaN|       NaN|      45|       1|        1|            1|\n",
       "|   Autres|    NaN|      Blanc|        NaN|           NaN|           NaN|       NaN|      42|       1|        2|            1|\n",
       "|    Bague|     Or|      Blanc|      Oxyde|         Blanc|         Ronde|       NaN|     NaN|       1|        1|            2|\n",
       "|    Bague|     Or|      Blanc|      Oxyde|         Blanc|         Coeur|       Cur|     NaN|       1|        1|            2|\n",
       "|    Bague|     Or|   Bicolore|     Topaze|          Bleu|         Ronde|       NaN|     NaN|       1|        1|            2|\n",
       "|    Bague|     Or|      Jaune|      Oxyde|         Blanc|         Ronde|       NaN|     NaN|       1|        1|            2|\n",
       "|    Bague|     Or|       Rose|      Oxyde|         Blanc|         Ronde|       NaN|     NaN|       1|        1|            3|\n",
       "|    Bague|     Or|       Rose|      Oxyde|         Blanc|         Ronde|    Goutte|     NaN|       1|        1|            1|\n",
       "|    Bague|    NaN|      Jaune|        NaN|           NaN|           NaN|       NaN|     NaN|       1|        1|            1|\n",
       "|    Bague|    NaN|      Blanc|        NaN|           NaN|           NaN|       NaN|     NaN|       1|        1|            1|\n",
       "|    Bague|     Or|      Jaune|      Oxyde|         Blanc|         Ronde|       Cur|     NaN|       1|        1|            3|\n",
       "|    Bague|    NaN|       Rose|        NaN|           NaN|           NaN|       NaN|     NaN|       1|        1|            1|\n",
       "|    Bague|    NaN|      Blanc|      Oxyde|delamatireNoir|           NaN|       NaN|     NaN|       1|        3|            1|\n",
       "|    Bague| Argent|      Blanc|      Oxyde|         Blanc|         Ronde|       NaN|     NaN|       1|        3|            3|\n",
       "+---------+-------+-----------+-----------+--------------+--------------+----------+--------+--------+---------+-------------+\n",
       "only showing top 20 rows\n",
       "\n"
      ]
     },
     "metadata": {
      "application/vnd.databricks.v1+output": {
       "addedWidgets": {},
       "arguments": {},
       "data": "+---------+-------+-----------+-----------+--------------+--------------+----------+--------+--------+---------+-------------+\n|categorie|matiere|couleur_mat|type_pierre|couleur_pierre|         forme|type_motif|longueur|prix_cat|poids_cat|nb_pierre_cat|\n+---------+-------+-----------+-----------+--------------+--------------+----------+--------+--------+---------+-------------+\n|   Autres|  Acier|      Blanc|     Strass|duboitierBlanc|duboitierRonde|       NaN|     NaN|       1|        3|            1|\n|   Autres|    NaN|   Bicolore|        NaN|           NaN|           NaN|       NaN|     NaN|       1|        1|            1|\n|   Autres|    NaN|      Jaune|        NaN|           NaN|           NaN|       NaN|     NaN|       1|        1|            1|\n|   Autres|    NaN|      Blanc|        NaN|           NaN|           NaN|       NaN|      45|       1|        1|            1|\n|   Autres|    NaN|      Jaune|        NaN|           NaN|           NaN|       NaN|      42|       1|        1|            1|\n|   Autres|    NaN|      Jaune|        NaN|           NaN|           NaN|       NaN|     NaN|       1|        1|            1|\n|   Autres|    NaN|      Jaune|        NaN|           NaN|           NaN|       NaN|      45|       1|        1|            1|\n|   Autres|    NaN|      Blanc|        NaN|           NaN|           NaN|       NaN|      42|       1|        2|            1|\n|    Bague|     Or|      Blanc|      Oxyde|         Blanc|         Ronde|       NaN|     NaN|       1|        1|            2|\n|    Bague|     Or|      Blanc|      Oxyde|         Blanc|         Coeur|       Cur|     NaN|       1|        1|            2|\n|    Bague|     Or|   Bicolore|     Topaze|          Bleu|         Ronde|       NaN|     NaN|       1|        1|            2|\n|    Bague|     Or|      Jaune|      Oxyde|         Blanc|         Ronde|       NaN|     NaN|       1|        1|            2|\n|    Bague|     Or|       Rose|      Oxyde|         Blanc|         Ronde|       NaN|     NaN|       1|        1|            3|\n|    Bague|     Or|       Rose|      Oxyde|         Blanc|         Ronde|    Goutte|     NaN|       1|        1|            1|\n|    Bague|    NaN|      Jaune|        NaN|           NaN|           NaN|       NaN|     NaN|       1|        1|            1|\n|    Bague|    NaN|      Blanc|        NaN|           NaN|           NaN|       NaN|     NaN|       1|        1|            1|\n|    Bague|     Or|      Jaune|      Oxyde|         Blanc|         Ronde|       Cur|     NaN|       1|        1|            3|\n|    Bague|    NaN|       Rose|        NaN|           NaN|           NaN|       NaN|     NaN|       1|        1|            1|\n|    Bague|    NaN|      Blanc|      Oxyde|delamatireNoir|           NaN|       NaN|     NaN|       1|        3|            1|\n|    Bague| Argent|      Blanc|      Oxyde|         Blanc|         Ronde|       NaN|     NaN|       1|        3|            3|\n+---------+-------+-----------+-----------+--------------+--------------+----------+--------+--------+---------+-------------+\nonly showing top 20 rows\n\n",
       "datasetInfos": [],
       "metadata": {},
       "removedWidgets": [],
       "type": "ansi"
      }
     },
     "output_type": "display_data"
    }
   ],
   "source": [
    "#Changements sur le train \n",
    "train = train.withColumn(\"nb_pierre_cat\", F.when(train.nb_pierre<=0, '1').when(train.nb_pierre>6, '3').otherwise('2'))\n",
    "train = train.drop(\"nb_pierre\")\n",
    "#Changements sur le test \n",
    "test = test.withColumn(\"nb_pierre_cat\", F.when(test.nb_pierre<=0, '1').when(test.nb_pierre>6, '3').otherwise('2'))\n",
    "test = test.drop(\"nb_pierre\")\n",
    "\n",
    "#Apercu de la base \n",
    "train.show()"
   ]
  },
  {
   "cell_type": "code",
   "execution_count": 0,
   "metadata": {
    "application/vnd.databricks.v1+cell": {
     "inputWidgets": {},
     "nuid": "4a3ea74f-ea08-44eb-9069-32993879937d",
     "showTitle": false,
     "title": ""
    }
   },
   "outputs": [
    {
     "data": {
      "text/html": [
       "<font size=4' color='#858846' face=\"sans-serif\">Descriptions et changements des variables catégorielles </font>"
      ]
     },
     "metadata": {
      "application/vnd.databricks.v1+output": {
       "addedWidgets": {},
       "arguments": {},
       "data": "<font size=4' color='#858846' face=\"sans-serif\">Descriptions et changements des variables catégorielles </font>",
       "datasetInfos": [],
       "metadata": {},
       "removedWidgets": [],
       "textData": null,
       "type": "htmlSandbox"
      }
     },
     "output_type": "display_data"
    }
   ],
   "source": [
    "displayHTML(\"\"\"<font size=4' color='#858846' face=\"sans-serif\">Descriptions et changements des variables catégorielles </font>\"\"\")"
   ]
  },
  {
   "cell_type": "code",
   "execution_count": 0,
   "metadata": {
    "application/vnd.databricks.v1+cell": {
     "inputWidgets": {},
     "nuid": "e31bb762-a29a-44fb-97ec-244523695d78",
     "showTitle": false,
     "title": ""
    }
   },
   "outputs": [
    {
     "data": {
      "text/html": [
       "<font size=3' color='black' face=\"sans-serif\"> Analyse des classes </font>"
      ]
     },
     "metadata": {
      "application/vnd.databricks.v1+output": {
       "addedWidgets": {},
       "arguments": {},
       "data": "<font size=3' color='black' face=\"sans-serif\"> Analyse des classes </font>",
       "datasetInfos": [],
       "metadata": {},
       "removedWidgets": [],
       "textData": null,
       "type": "htmlSandbox"
      }
     },
     "output_type": "display_data"
    }
   ],
   "source": [
    "displayHTML(\"\"\"<font size=3' color='black' face=\"sans-serif\"> Analyse des classes </font>\"\"\")"
   ]
  },
  {
   "cell_type": "markdown",
   "metadata": {
    "application/vnd.databricks.v1+cell": {
     "inputWidgets": {},
     "nuid": "94019c3b-e612-4040-940a-5f590d1559d9",
     "showTitle": false,
     "title": ""
    }
   },
   "source": [
    "Rappel sur le nombre de NaN par variables: \n",
    "- categorie: 0%\n",
    "- matiere: 33%\n",
    "- couleur_mat: 0.15%\n",
    "- type_pierre: 34%\n",
    "- couleur_pierre: 34%\n",
    "- forme (de la pierre): 33%\n",
    "- type_motif (de la pierre): 64%"
   ]
  },
  {
   "cell_type": "code",
   "execution_count": 0,
   "metadata": {
    "application/vnd.databricks.v1+cell": {
     "inputWidgets": {},
     "nuid": "8e5743a8-23f4-4807-a932-ebdcc83087de",
     "showTitle": false,
     "title": ""
    }
   },
   "outputs": [
    {
     "data": {
      "text/plain": [
       "+---------+-----+\n",
       "|categorie|count|\n",
       "+---------+-----+\n",
       "|  Boucles|  146|\n",
       "|  Collier|  421|\n",
       "|   Autres|  206|\n",
       "| Bracelet|  299|\n",
       "|    Bague|  831|\n",
       "+---------+-----+\n",
       "\n",
       "+-------+-----+\n",
       "|matiere|count|\n",
       "+-------+-----+\n",
       "|Platine|    5|\n",
       "| Argent|  100|\n",
       "|     Or| 1114|\n",
       "| Autres|    2|\n",
       "|    NaN|  639|\n",
       "|Plaquor|   41|\n",
       "|  Acier|    2|\n",
       "+-------+-----+\n",
       "\n",
       "+-----------+-----+\n",
       "|couleur_mat|count|\n",
       "+-----------+-----+\n",
       "|       Rose|  127|\n",
       "|  Tricolore|   28|\n",
       "|      Jaune|  846|\n",
       "|     Autres|    2|\n",
       "|      Blanc|  793|\n",
       "|        NaN|    3|\n",
       "|   Bicolore|  103|\n",
       "|       Noir|    1|\n",
       "+-----------+-----+\n",
       "\n",
       "+-----------------+-----+\n",
       "|      type_pierre|count|\n",
       "+-----------------+-----+\n",
       "|            Rubis|   17|\n",
       "|        Amethyste|   21|\n",
       "|       Tourmaline|    1|\n",
       "|             Onyx|    1|\n",
       "|        Ceramique|    2|\n",
       "|       Aventurine|    3|\n",
       "|            Agate|    1|\n",
       "|           Saphir|   28|\n",
       "|       Calcedoine|    1|\n",
       "|     PierredeLune|    1|\n",
       "|           Quartz|    4|\n",
       "|           Strass|   14|\n",
       "|            Oxyde|  438|\n",
       "|           Topaze|   34|\n",
       "|   Perledeculture|   55|\n",
       "| PierredImitation|   10|\n",
       "|DiamantSynthtique|    4|\n",
       "|      Aiguemarine|    2|\n",
       "|              NaN|  663|\n",
       "|            Nacre|    6|\n",
       "+-----------------+-----+\n",
       "only showing top 20 rows\n",
       "\n",
       "+----------------+-----+\n",
       "|  couleur_pierre|count|\n",
       "+----------------+-----+\n",
       "|          Marron|    4|\n",
       "|       Champagne|    1|\n",
       "|   duboitierRose|    1|\n",
       "|  delamatireGris|    3|\n",
       "|            Rose|    6|\n",
       "|         Bleusky|    7|\n",
       "|    ducordonNoir|    2|\n",
       "|     Multicolore|    3|\n",
       "|           Rouge|   19|\n",
       "|      Mielcognac|   10|\n",
       "|            Brun|    1|\n",
       "|            Gris|    2|\n",
       "|           Blanc|  987|\n",
       "| delamatireBeige|    1|\n",
       "|  delamatireNoir|   13|\n",
       "|  duboitierBlanc|    1|\n",
       "|            Vert|   14|\n",
       "| delamatireBlanc|    1|\n",
       "|             NaN|  665|\n",
       "|delamatireAutres|    1|\n",
       "+----------------+-----+\n",
       "only showing top 20 rows\n",
       "\n",
       "+-----------------+-----+\n",
       "|            forme|count|\n",
       "+-----------------+-----+\n",
       "|globaleDemicercle|    9|\n",
       "|     BrillantRond|    8|\n",
       "|        Princesse|    2|\n",
       "|            Poire|   24|\n",
       "|            Coeur|   22|\n",
       "|     globaleRonde|  107|\n",
       "|        Semironde|    3|\n",
       "|            Ovale|   65|\n",
       "|  NavetteMarquise|   10|\n",
       "|    globaleAmande|   17|\n",
       "|      globaleHuit|    2|\n",
       "|           Cercle|    1|\n",
       "|           Patate|    1|\n",
       "|    globaleVrille|   11|\n",
       "|             Carr|    4|\n",
       "|       Grainderiz|    5|\n",
       "|            Ronde|  949|\n",
       "|      Semibaroque|    6|\n",
       "|          Baroque|    6|\n",
       "|   duboitierRonde|    2|\n",
       "+-----------------+-----+\n",
       "only showing top 20 rows\n",
       "\n",
       "+----------------+-----+\n",
       "|      type_motif|count|\n",
       "+----------------+-----+\n",
       "|         Feuille|    9|\n",
       "|ZodiaqueVerseaux|    2|\n",
       "|             Cur|  110|\n",
       "|           Carre|    4|\n",
       "|              Fe|    1|\n",
       "|       Libellule|    1|\n",
       "|               8|    3|\n",
       "| ZodiaqueGemeaux|    1|\n",
       "|    Doublecercle|    1|\n",
       "|         Message|    5|\n",
       "|           Plume|    4|\n",
       "|            Chat|    1|\n",
       "|     Motifsgrecs|    6|\n",
       "|           Ovale|  100|\n",
       "|         Losange|   10|\n",
       "| ZodiaqueBalance|    1|\n",
       "|             Nud|    4|\n",
       "|               V|    7|\n",
       "|   Ailedemouette|    3|\n",
       "|          Cercle|   71|\n",
       "+----------------+-----+\n",
       "only showing top 20 rows\n",
       "\n"
      ]
     },
     "metadata": {
      "application/vnd.databricks.v1+output": {
       "addedWidgets": {},
       "arguments": {},
       "data": "+---------+-----+\n|categorie|count|\n+---------+-----+\n|  Boucles|  146|\n|  Collier|  421|\n|   Autres|  206|\n| Bracelet|  299|\n|    Bague|  831|\n+---------+-----+\n\n+-------+-----+\n|matiere|count|\n+-------+-----+\n|Platine|    5|\n| Argent|  100|\n|     Or| 1114|\n| Autres|    2|\n|    NaN|  639|\n|Plaquor|   41|\n|  Acier|    2|\n+-------+-----+\n\n+-----------+-----+\n|couleur_mat|count|\n+-----------+-----+\n|       Rose|  127|\n|  Tricolore|   28|\n|      Jaune|  846|\n|     Autres|    2|\n|      Blanc|  793|\n|        NaN|    3|\n|   Bicolore|  103|\n|       Noir|    1|\n+-----------+-----+\n\n+-----------------+-----+\n|      type_pierre|count|\n+-----------------+-----+\n|            Rubis|   17|\n|        Amethyste|   21|\n|       Tourmaline|    1|\n|             Onyx|    1|\n|        Ceramique|    2|\n|       Aventurine|    3|\n|            Agate|    1|\n|           Saphir|   28|\n|       Calcedoine|    1|\n|     PierredeLune|    1|\n|           Quartz|    4|\n|           Strass|   14|\n|            Oxyde|  438|\n|           Topaze|   34|\n|   Perledeculture|   55|\n| PierredImitation|   10|\n|DiamantSynthtique|    4|\n|      Aiguemarine|    2|\n|              NaN|  663|\n|            Nacre|    6|\n+-----------------+-----+\nonly showing top 20 rows\n\n+----------------+-----+\n|  couleur_pierre|count|\n+----------------+-----+\n|          Marron|    4|\n|       Champagne|    1|\n|   duboitierRose|    1|\n|  delamatireGris|    3|\n|            Rose|    6|\n|         Bleusky|    7|\n|    ducordonNoir|    2|\n|     Multicolore|    3|\n|           Rouge|   19|\n|      Mielcognac|   10|\n|            Brun|    1|\n|            Gris|    2|\n|           Blanc|  987|\n| delamatireBeige|    1|\n|  delamatireNoir|   13|\n|  duboitierBlanc|    1|\n|            Vert|   14|\n| delamatireBlanc|    1|\n|             NaN|  665|\n|delamatireAutres|    1|\n+----------------+-----+\nonly showing top 20 rows\n\n+-----------------+-----+\n|            forme|count|\n+-----------------+-----+\n|globaleDemicercle|    9|\n|     BrillantRond|    8|\n|        Princesse|    2|\n|            Poire|   24|\n|            Coeur|   22|\n|     globaleRonde|  107|\n|        Semironde|    3|\n|            Ovale|   65|\n|  NavetteMarquise|   10|\n|    globaleAmande|   17|\n|      globaleHuit|    2|\n|           Cercle|    1|\n|           Patate|    1|\n|    globaleVrille|   11|\n|             Carr|    4|\n|       Grainderiz|    5|\n|            Ronde|  949|\n|      Semibaroque|    6|\n|          Baroque|    6|\n|   duboitierRonde|    2|\n+-----------------+-----+\nonly showing top 20 rows\n\n+----------------+-----+\n|      type_motif|count|\n+----------------+-----+\n|         Feuille|    9|\n|ZodiaqueVerseaux|    2|\n|             Cur|  110|\n|           Carre|    4|\n|              Fe|    1|\n|       Libellule|    1|\n|               8|    3|\n| ZodiaqueGemeaux|    1|\n|    Doublecercle|    1|\n|         Message|    5|\n|           Plume|    4|\n|            Chat|    1|\n|     Motifsgrecs|    6|\n|           Ovale|  100|\n|         Losange|   10|\n| ZodiaqueBalance|    1|\n|             Nud|    4|\n|               V|    7|\n|   Ailedemouette|    3|\n|          Cercle|   71|\n+----------------+-----+\nonly showing top 20 rows\n\n",
       "datasetInfos": [],
       "metadata": {},
       "removedWidgets": [],
       "type": "ansi"
      }
     },
     "output_type": "display_data"
    }
   ],
   "source": [
    "categorie = train.groupBy(\"categorie\").count().show()\n",
    "matiere = train.groupBy(\"matiere\").count().show()\n",
    "couleur_mat = train.groupBy(\"couleur_mat\").count().show()\n",
    "type_pierre = train.groupBy(\"type_pierre\").count().show()\n",
    "couleur_pierre = train.groupBy(\"couleur_pierre\").count().show()\n",
    "forme = train.groupBy(\"forme\").count().show()\n",
    "type_motif = train.groupBy(\"type_motif\").count().show()"
   ]
  },
  {
   "cell_type": "code",
   "execution_count": 0,
   "metadata": {
    "application/vnd.databricks.v1+cell": {
     "inputWidgets": {},
     "nuid": "53ee7787-35da-4625-8f19-d7ccc797850a",
     "showTitle": false,
     "title": ""
    }
   },
   "outputs": [
    {
     "data": {
      "text/html": [
       "<font size=3' color='black' face=\"sans-serif\"> Transformations des variables </font>"
      ]
     },
     "metadata": {
      "application/vnd.databricks.v1+output": {
       "addedWidgets": {},
       "arguments": {},
       "data": "<font size=3' color='black' face=\"sans-serif\"> Transformations des variables </font>",
       "datasetInfos": [],
       "metadata": {},
       "removedWidgets": [],
       "textData": null,
       "type": "htmlSandbox"
      }
     },
     "output_type": "display_data"
    }
   ],
   "source": [
    "displayHTML(\"\"\"<font size=3' color='black' face=\"sans-serif\"> Transformations des variables </font>\"\"\")"
   ]
  },
  {
   "cell_type": "markdown",
   "metadata": {
    "application/vnd.databricks.v1+cell": {
     "inputWidgets": {},
     "nuid": "7a016a69-7af7-4935-8f58-c5b8d159d623",
     "showTitle": false,
     "title": ""
    }
   },
   "source": [
    "La variable \"matiere\" representant la matiere du bijou peut etre separee en trois groupes: or (1) étant le plus represente, autre (2) representant les autres matieres et non connues (3) representant les valeurs manquantes (33%)."
   ]
  },
  {
   "cell_type": "code",
   "execution_count": 0,
   "metadata": {
    "application/vnd.databricks.v1+cell": {
     "inputWidgets": {},
     "nuid": "d0359729-bd4c-47dc-abb5-d41b61b4276c",
     "showTitle": false,
     "title": ""
    }
   },
   "outputs": [],
   "source": [
    "#Changements sur le train \n",
    "train = train.withColumn(\"matiere_new\", F.when(train.matiere=='Or', '1').when(isnan(train.matiere), '3').otherwise('2'))\n",
    "train = train.drop(\"matiere\")\n",
    "#Changements sur le test \n",
    "test = test.withColumn(\"matiere_new\", F.when(test.matiere=='Or', '1').when(isnan(test.matiere), '3').otherwise('2'))\n",
    "test = test.drop(\"matiere\")"
   ]
  },
  {
   "cell_type": "markdown",
   "metadata": {
    "application/vnd.databricks.v1+cell": {
     "inputWidgets": {},
     "nuid": "f60440ee-e152-4445-981e-4c06a646cdce",
     "showTitle": false,
     "title": ""
    }
   },
   "source": [
    "La variable \"couleur_mat\" representant la couleur du bijou peut etre separee en trois groupes: jaune (1) etant le plus represente, blanc (2) et autres (3) dans laquelle nous plaçons les NaN car ils sont au nombre de 3."
   ]
  },
  {
   "cell_type": "code",
   "execution_count": 0,
   "metadata": {
    "application/vnd.databricks.v1+cell": {
     "inputWidgets": {},
     "nuid": "ccf780a2-843f-41c3-bab9-20b9d72ad9fc",
     "showTitle": false,
     "title": ""
    }
   },
   "outputs": [],
   "source": [
    "#Changements sur le train \n",
    "train = train.withColumn(\"couleur\", F.when(train.couleur_mat=='Jaune', '1').when(train.couleur_mat=='Blanc', '2').otherwise('3'))\n",
    "train = train.drop(\"couleur_mat\")\n",
    "#Changements sur le test \n",
    "test = test.withColumn(\"couleur\", F.when(test.couleur_mat=='Jaune', '1').when(test.couleur_mat=='Blanc', '2').otherwise('3'))\n",
    "test = test.drop(\"couleur_mat\")"
   ]
  },
  {
   "cell_type": "markdown",
   "metadata": {
    "application/vnd.databricks.v1+cell": {
     "inputWidgets": {},
     "nuid": "a83ad413-0b10-4c10-a0e7-2bffe0f43868",
     "showTitle": false,
     "title": ""
    }
   },
   "source": [
    "La variable \"forme\" representant la forme de la pierre peut etre separee en trois groupes: ronde (1) etant le plus represente, autre (2) representant les autres formes et non connues (3) representant les valeurs manquantes (33%)."
   ]
  },
  {
   "cell_type": "code",
   "execution_count": 0,
   "metadata": {
    "application/vnd.databricks.v1+cell": {
     "inputWidgets": {},
     "nuid": "d0177d41-0bcc-44da-9950-227abc2537a5",
     "showTitle": false,
     "title": ""
    }
   },
   "outputs": [],
   "source": [
    "#Changements sur le train \n",
    "train = train.withColumn(\"forme_new\", F.when(train.forme.contains('Ronde') | train.forme.contains('globaleRonde'), '1').when(isnan(train.forme), '3').otherwise('2'))\n",
    "train = train.drop(\"forme\")\n",
    "#Changements sur le test \n",
    "test = test.withColumn(\"forme_new\", F.when(test.forme.contains('Ronde') | test.forme.contains('globaleRonde'), '1').when(isnan(test.forme), '3').otherwise('2'))\n",
    "test = test.drop(\"forme\")"
   ]
  },
  {
   "cell_type": "markdown",
   "metadata": {
    "application/vnd.databricks.v1+cell": {
     "inputWidgets": {},
     "nuid": "193848b3-24ca-4bd1-bb62-fcc6e4826de0",
     "showTitle": false,
     "title": ""
    }
   },
   "source": [
    "La variable \"couleur_pierre\" peut etre separee en trois groupes: blanc (1) etant le plus represente, autre (2) representant les autres couleurs et non connues (3) representant les valeurs manquantes (34%)."
   ]
  },
  {
   "cell_type": "code",
   "execution_count": 0,
   "metadata": {
    "application/vnd.databricks.v1+cell": {
     "inputWidgets": {},
     "nuid": "79a10611-c79b-4cb2-b7fc-f805c85f876e",
     "showTitle": false,
     "title": ""
    }
   },
   "outputs": [],
   "source": [
    "#Changements sur le train \n",
    "train = train.withColumn(\"coul_pierre_new\", F.when(train.couleur_pierre.contains('Blanc'), '1').when(isnan(train.couleur_pierre), '3').otherwise('2'))\n",
    "train = train.drop(\"couleur_pierre\")\n",
    "#Changements sur le test \n",
    "test = test.withColumn(\"coul_pierre_new\", F.when(test.couleur_pierre.contains('Blanc'), '1').when(isnan(test.couleur_pierre), '3').otherwise('2'))\n",
    "test = test.drop(\"couleur_pierre\")"
   ]
  },
  {
   "cell_type": "markdown",
   "metadata": {
    "application/vnd.databricks.v1+cell": {
     "inputWidgets": {},
     "nuid": "d39eca4b-4040-4092-aff0-61d689c442b6",
     "showTitle": false,
     "title": ""
    }
   },
   "source": [
    "Les variables \"type_pierre\" et \"type_motif\" ne seront pas utilisees au sein du modele car leur nombre de modalites est important et egalement car aucune modalite n'a un nombre superieur au nombre de valeurs manquantes."
   ]
  },
  {
   "cell_type": "code",
   "execution_count": 0,
   "metadata": {
    "application/vnd.databricks.v1+cell": {
     "inputWidgets": {},
     "nuid": "92352e06-c302-4842-b36d-3948fe0b0456",
     "showTitle": false,
     "title": ""
    }
   },
   "outputs": [],
   "source": [
    "train = train.drop(\"type_pierre\", \"type_motif\")\n",
    "test = test.drop(\"type_pierre\", \"type_motif\")"
   ]
  },
  {
   "cell_type": "code",
   "execution_count": 0,
   "metadata": {
    "application/vnd.databricks.v1+cell": {
     "inputWidgets": {},
     "nuid": "d488f839-4550-4783-8f9f-0d30d51f4dc0",
     "showTitle": false,
     "title": ""
    }
   },
   "outputs": [
    {
     "data": {
      "text/plain": [
       "+-----------+-----+\n",
       "|matiere_new|count|\n",
       "+-----------+-----+\n",
       "|          3|  639|\n",
       "|          1| 1114|\n",
       "|          2|  150|\n",
       "+-----------+-----+\n",
       "\n",
       "+-------+-----+\n",
       "|couleur|count|\n",
       "+-------+-----+\n",
       "|      3|  264|\n",
       "|      1|  846|\n",
       "|      2|  793|\n",
       "+-------+-----+\n",
       "\n",
       "+---------------+-----+\n",
       "|coul_pierre_new|count|\n",
       "+---------------+-----+\n",
       "|              3|  665|\n",
       "|              1|  989|\n",
       "|              2|  249|\n",
       "+---------------+-----+\n",
       "\n",
       "+---------+-----+\n",
       "|forme_new|count|\n",
       "+---------+-----+\n",
       "|        3|  639|\n",
       "|        1| 1058|\n",
       "|        2|  206|\n",
       "+---------+-----+\n",
       "\n"
      ]
     },
     "metadata": {
      "application/vnd.databricks.v1+output": {
       "addedWidgets": {},
       "arguments": {},
       "data": "+-----------+-----+\n|matiere_new|count|\n+-----------+-----+\n|          3|  639|\n|          1| 1114|\n|          2|  150|\n+-----------+-----+\n\n+-------+-----+\n|couleur|count|\n+-------+-----+\n|      3|  264|\n|      1|  846|\n|      2|  793|\n+-------+-----+\n\n+---------------+-----+\n|coul_pierre_new|count|\n+---------------+-----+\n|              3|  665|\n|              1|  989|\n|              2|  249|\n+---------------+-----+\n\n+---------+-----+\n|forme_new|count|\n+---------+-----+\n|        3|  639|\n|        1| 1058|\n|        2|  206|\n+---------+-----+\n\n",
       "datasetInfos": [],
       "metadata": {},
       "removedWidgets": [],
       "type": "ansi"
      }
     },
     "output_type": "display_data"
    }
   ],
   "source": [
    "#Nombre d'article par modalite apres changement des variables \n",
    "matiere = train.groupBy(\"matiere_new\").count().show()\n",
    "couleur_mat = train.groupBy(\"couleur\").count().show()\n",
    "couleur_pierre = train.groupBy(\"coul_pierre_new\").count().show()\n",
    "forme = train.groupBy(\"forme_new\").count().show()"
   ]
  },
  {
   "cell_type": "markdown",
   "metadata": {
    "application/vnd.databricks.v1+cell": {
     "inputWidgets": {},
     "nuid": "074029f5-720b-44e1-b117-24bc7d6d587f",
     "showTitle": false,
     "title": ""
    }
   },
   "source": [
    "Vérification apres changements des variables:"
   ]
  },
  {
   "cell_type": "code",
   "execution_count": 0,
   "metadata": {
    "application/vnd.databricks.v1+cell": {
     "inputWidgets": {},
     "nuid": "e882c0eb-e5cb-43f2-830e-1deb54754404",
     "showTitle": false,
     "title": ""
    }
   },
   "outputs": [
    {
     "data": {
      "text/plain": [
       "+---------+--------+---------+------------+-------------+-----------+-------+---------+---------------+\n",
       "|categorie|prix_cat|poids_cat|longueur_cat|nb_pierre_cat|matiere_new|couleur|forme_new|coul_pierre_new|\n",
       "+---------+--------+---------+------------+-------------+-----------+-------+---------+---------------+\n",
       "|      0.0|     0.0|      0.0|         0.0|          0.0|        0.0|    0.0|      0.0|            0.0|\n",
       "+---------+--------+---------+------------+-------------+-----------+-------+---------+---------------+\n",
       "\n",
       "+---------+--------+---------+------------+-------------+-----------+-------+---------+---------------+\n",
       "|categorie|prix_cat|poids_cat|longueur_cat|nb_pierre_cat|matiere_new|couleur|forme_new|coul_pierre_new|\n",
       "+---------+--------+---------+------------+-------------+-----------+-------+---------+---------------+\n",
       "|   Autres|       1|        3|           3|            1|          2|      2|        1|              1|\n",
       "|   Autres|       1|        1|           3|            1|          3|      3|        3|              3|\n",
       "|   Autres|       1|        1|           3|            1|          3|      1|        3|              3|\n",
       "|   Autres|       1|        1|           2|            1|          3|      2|        3|              3|\n",
       "|   Autres|       1|        1|           1|            1|          3|      1|        3|              3|\n",
       "|   Autres|       1|        1|           3|            1|          3|      1|        3|              3|\n",
       "|   Autres|       1|        1|           2|            1|          3|      1|        3|              3|\n",
       "|   Autres|       1|        2|           1|            1|          3|      2|        3|              3|\n",
       "|    Bague|       1|        1|           3|            2|          1|      2|        1|              1|\n",
       "|    Bague|       1|        1|           3|            2|          1|      2|        2|              1|\n",
       "|    Bague|       1|        1|           3|            2|          1|      3|        1|              2|\n",
       "|    Bague|       1|        1|           3|            2|          1|      1|        1|              1|\n",
       "|    Bague|       1|        1|           3|            3|          1|      3|        1|              1|\n",
       "|    Bague|       1|        1|           3|            1|          1|      3|        1|              1|\n",
       "|    Bague|       1|        1|           3|            1|          3|      1|        3|              3|\n",
       "|    Bague|       1|        1|           3|            1|          3|      2|        3|              3|\n",
       "|    Bague|       1|        1|           3|            3|          1|      1|        1|              1|\n",
       "|    Bague|       1|        1|           3|            1|          3|      3|        3|              3|\n",
       "|    Bague|       1|        3|           3|            1|          3|      2|        3|              2|\n",
       "|    Bague|       1|        3|           3|            3|          2|      2|        1|              1|\n",
       "+---------+--------+---------+------------+-------------+-----------+-------+---------+---------------+\n",
       "only showing top 20 rows\n",
       "\n"
      ]
     },
     "metadata": {
      "application/vnd.databricks.v1+output": {
       "addedWidgets": {},
       "arguments": {},
       "data": "+---------+--------+---------+------------+-------------+-----------+-------+---------+---------------+\n|categorie|prix_cat|poids_cat|longueur_cat|nb_pierre_cat|matiere_new|couleur|forme_new|coul_pierre_new|\n+---------+--------+---------+------------+-------------+-----------+-------+---------+---------------+\n|      0.0|     0.0|      0.0|         0.0|          0.0|        0.0|    0.0|      0.0|            0.0|\n+---------+--------+---------+------------+-------------+-----------+-------+---------+---------------+\n\n+---------+--------+---------+------------+-------------+-----------+-------+---------+---------------+\n|categorie|prix_cat|poids_cat|longueur_cat|nb_pierre_cat|matiere_new|couleur|forme_new|coul_pierre_new|\n+---------+--------+---------+------------+-------------+-----------+-------+---------+---------------+\n|   Autres|       1|        3|           3|            1|          2|      2|        1|              1|\n|   Autres|       1|        1|           3|            1|          3|      3|        3|              3|\n|   Autres|       1|        1|           3|            1|          3|      1|        3|              3|\n|   Autres|       1|        1|           2|            1|          3|      2|        3|              3|\n|   Autres|       1|        1|           1|            1|          3|      1|        3|              3|\n|   Autres|       1|        1|           3|            1|          3|      1|        3|              3|\n|   Autres|       1|        1|           2|            1|          3|      1|        3|              3|\n|   Autres|       1|        2|           1|            1|          3|      2|        3|              3|\n|    Bague|       1|        1|           3|            2|          1|      2|        1|              1|\n|    Bague|       1|        1|           3|            2|          1|      2|        2|              1|\n|    Bague|       1|        1|           3|            2|          1|      3|        1|              2|\n|    Bague|       1|        1|           3|            2|          1|      1|        1|              1|\n|    Bague|       1|        1|           3|            3|          1|      3|        1|              1|\n|    Bague|       1|        1|           3|            1|          1|      3|        1|              1|\n|    Bague|       1|        1|           3|            1|          3|      1|        3|              3|\n|    Bague|       1|        1|           3|            1|          3|      2|        3|              3|\n|    Bague|       1|        1|           3|            3|          1|      1|        1|              1|\n|    Bague|       1|        1|           3|            1|          3|      3|        3|              3|\n|    Bague|       1|        3|           3|            1|          3|      2|        3|              2|\n|    Bague|       1|        3|           3|            3|          2|      2|        1|              1|\n+---------+--------+---------+------------+-------------+-----------+-------+---------+---------------+\nonly showing top 20 rows\n\n",
       "datasetInfos": [],
       "metadata": {},
       "removedWidgets": [],
       "type": "ansi"
      }
     },
     "output_type": "display_data"
    }
   ],
   "source": [
    "train.select([(count(when(isnan(c), c))/train.count()*100).alias(c) for c in train.columns]).show()\n",
    "train.show()"
   ]
  },
  {
   "cell_type": "code",
   "execution_count": 0,
   "metadata": {
    "application/vnd.databricks.v1+cell": {
     "inputWidgets": {},
     "nuid": "89b61417-e397-4d6c-8820-8df1fb057e0f",
     "showTitle": false,
     "title": ""
    }
   },
   "outputs": [
    {
     "data": {
      "text/html": [
       "<font size=6' color='#884846' face=\"sans-serif\">III) Statistiques descriptives bivariees </font>"
      ]
     },
     "metadata": {
      "application/vnd.databricks.v1+output": {
       "addedWidgets": {},
       "arguments": {},
       "data": "<font size=6' color='#884846' face=\"sans-serif\">III) Statistiques descriptives bivariees </font>",
       "datasetInfos": [],
       "metadata": {},
       "removedWidgets": [],
       "textData": null,
       "type": "htmlSandbox"
      }
     },
     "output_type": "display_data"
    }
   ],
   "source": [
    "displayHTML(\"\"\"<font size=6' color='#884846' face=\"sans-serif\">III) Statistiques descriptives bivariees </font>\"\"\")"
   ]
  },
  {
   "cell_type": "markdown",
   "metadata": {
    "application/vnd.databricks.v1+cell": {
     "inputWidgets": {},
     "nuid": "5853ee38-2d74-4ce3-a4b5-c0fec806c46b",
     "showTitle": false,
     "title": ""
    }
   },
   "source": [
    "Dans cette section, nous croisons notre variable d'interet (le prix en categorielle) avec des variables que nous pensons discriminantes: \n",
    "- matiere_cat car l'or est plus chere que d'autres metaux \n",
    "- poids_cat car l'or pese plus lourd que d'autres metaux\n",
    "- nb_pierre car les pierres precieuses ou diamants sont plus cheres"
   ]
  },
  {
   "cell_type": "code",
   "execution_count": 0,
   "metadata": {
    "application/vnd.databricks.v1+cell": {
     "inputWidgets": {},
     "nuid": "85b952d7-96a3-4d23-8736-377fc534305c",
     "showTitle": false,
     "title": ""
    }
   },
   "outputs": [
    {
     "data": {
      "text/html": [
       "<font size=4' color='#858846' face=\"sans-serif\">Matiere </font>"
      ]
     },
     "metadata": {
      "application/vnd.databricks.v1+output": {
       "addedWidgets": {},
       "arguments": {},
       "data": "<font size=4' color='#858846' face=\"sans-serif\">Matiere </font>",
       "datasetInfos": [],
       "metadata": {},
       "removedWidgets": [],
       "textData": null,
       "type": "htmlSandbox"
      }
     },
     "output_type": "display_data"
    }
   ],
   "source": [
    "displayHTML(\"\"\"<font size=4' color='#858846' face=\"sans-serif\">Matiere </font>\"\"\")"
   ]
  },
  {
   "cell_type": "markdown",
   "metadata": {
    "application/vnd.databricks.v1+cell": {
     "inputWidgets": {},
     "nuid": "44a830fc-d251-4ebc-a53c-6072ac63ed18",
     "showTitle": false,
     "title": ""
    }
   },
   "source": [
    "Pour la categorie or, notre supposition precedente est confirmee. Lorsque le bijou est en or son prix fait majoritairement parti des categories avec un prix eleve (orange) ou un prix moyen (vert). Nous observons egalement que pour les produits composes d'autres metaux, le prix est faible (bleu)."
   ]
  },
  {
   "cell_type": "code",
   "execution_count": 0,
   "metadata": {
    "application/vnd.databricks.v1+cell": {
     "inputWidgets": {},
     "nuid": "2f85492c-bc8c-4a89-b455-4338c8c34628",
     "showTitle": false,
     "title": ""
    }
   },
   "outputs": [
    {
     "data": {
      "image/png": "[encoded data removed]"
     },
     "metadata": {
      "application/vnd.databricks.v1+output": {
       "addedWidgets": {},
       "arguments": {},
       "data": "data:image/png;base64,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\n",
       "datasetInfos": [],
       "metadata": {},
       "removedWidgets": [],
       "type": "image"
      }
     },
     "output_type": "display_data"
    }
   ],
   "source": [
    "df_graph = train.toPandas()\n",
    "plt.figure(figsize=(10,6))\n",
    "ax = sns.countplot(x=\"matiere_new\", hue=\"prix_cat\",data=df_graph)\n",
    "plt.title('Diagramme en barre de la matiere selon les categories de prix')\n",
    "plt.xlabel('Matiere')\n",
    "plt.ylabel('Nombre')\n",
    "plt.show()"
   ]
  },
  {
   "cell_type": "code",
   "execution_count": 0,
   "metadata": {
    "application/vnd.databricks.v1+cell": {
     "inputWidgets": {},
     "nuid": "eb9cbf2e-a6fc-4122-9f13-39fd389e9dd4",
     "showTitle": false,
     "title": ""
    }
   },
   "outputs": [
    {
     "data": {
      "text/html": [
       "<font size=4' color='#858846' face=\"sans-serif\">Poids </font>"
      ]
     },
     "metadata": {
      "application/vnd.databricks.v1+output": {
       "addedWidgets": {},
       "arguments": {},
       "data": "<font size=4' color='#858846' face=\"sans-serif\">Poids </font>",
       "datasetInfos": [],
       "metadata": {},
       "removedWidgets": [],
       "textData": null,
       "type": "htmlSandbox"
      }
     },
     "output_type": "display_data"
    }
   ],
   "source": [
    "displayHTML(\"\"\"<font size=4' color='#858846' face=\"sans-serif\">Poids </font>\"\"\")"
   ]
  },
  {
   "cell_type": "markdown",
   "metadata": {
    "application/vnd.databricks.v1+cell": {
     "inputWidgets": {},
     "nuid": "209bae5a-5d0e-4376-b8db-3bf0ac30f038",
     "showTitle": false,
     "title": ""
    }
   },
   "source": [
    "Pour la categorie avec un poids eleve, notre supposition precedente est confirmee. Lorsque le bijou est \"lourd\" son prix fait majoritairement parti de la categories avec un prix eleve (orange). A l'inverse, lorsque le bijou est \"lege\" son prix fait majoritairement parti de la categories avec un prix faible (bleu)."
   ]
  },
  {
   "cell_type": "code",
   "execution_count": 0,
   "metadata": {
    "application/vnd.databricks.v1+cell": {
     "inputWidgets": {},
     "nuid": "0bdc8204-a7b2-48ce-bb01-6227edff3b36",
     "showTitle": false,
     "title": ""
    }
   },
   "outputs": [
    {
     "data": {
      "image/png": "[encoded data removed]"
     },
     "metadata": {
      "application/vnd.databricks.v1+output": {
       "addedWidgets": {},
       "arguments": {},
       "data": "data:image/png;base64,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\n",
       "datasetInfos": [],
       "metadata": {},
       "removedWidgets": [],
       "type": "image"
      }
     },
     "output_type": "display_data"
    }
   ],
   "source": [
    "plt.figure(figsize=(10,6))\n",
    "ax = sns.countplot(x=\"poids_cat\", hue=\"prix_cat\",data=df_graph)\n",
    "plt.title('Diagramme en barre du poids selon les categories de prix')\n",
    "plt.xlabel('Categorie de poids')\n",
    "plt.ylabel('Nombre')\n",
    "plt.show()"
   ]
  },
  {
   "cell_type": "code",
   "execution_count": 0,
   "metadata": {
    "application/vnd.databricks.v1+cell": {
     "inputWidgets": {},
     "nuid": "9bb7bad7-707c-4751-a669-ebafe776412d",
     "showTitle": false,
     "title": ""
    }
   },
   "outputs": [
    {
     "data": {
      "text/html": [
       "<font size=4' color='#858846' face=\"sans-serif\">Nombre de pierres  </font>"
      ]
     },
     "metadata": {
      "application/vnd.databricks.v1+output": {
       "addedWidgets": {},
       "arguments": {},
       "data": "<font size=4' color='#858846' face=\"sans-serif\">Nombre de pierres  </font>",
       "datasetInfos": [],
       "metadata": {},
       "removedWidgets": [],
       "textData": null,
       "type": "htmlSandbox"
      }
     },
     "output_type": "display_data"
    }
   ],
   "source": [
    "displayHTML(\"\"\"<font size=4' color='#858846' face=\"sans-serif\">Nombre de pierres  </font>\"\"\")"
   ]
  },
  {
   "cell_type": "markdown",
   "metadata": {
    "application/vnd.databricks.v1+cell": {
     "inputWidgets": {},
     "nuid": "07acdec2-b709-4fac-9982-690a23276bfb",
     "showTitle": false,
     "title": ""
    }
   },
   "source": [
    "Pour la categorie avec un nombre de pierres eleve, notre supposition precedente est confirmee: son prix fait majoritairement parti de la categories avec un prix eleve (orange). A l'inverse, lorsque le bijou a pas de pierres son prix fait majoritairement parti de la categories avec un prix faible (bleu)."
   ]
  },
  {
   "cell_type": "code",
   "execution_count": 0,
   "metadata": {
    "application/vnd.databricks.v1+cell": {
     "inputWidgets": {},
     "nuid": "d9e018b5-7611-4e34-97bb-10f1f7f8a45b",
     "showTitle": false,
     "title": ""
    }
   },
   "outputs": [
    {
     "data": {
      "image/png": "[encoded data removed]"
     },
     "metadata": {
      "application/vnd.databricks.v1+output": {
       "addedWidgets": {},
       "arguments": {},
       "data": "data:image/png;base64,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\n",
       "datasetInfos": [],
       "metadata": {},
       "removedWidgets": [],
       "type": "image"
      }
     },
     "output_type": "display_data"
    }
   ],
   "source": [
    "plt.figure(figsize=(10,6))\n",
    "ax = sns.countplot(x=\"nb_pierre_cat\", hue=\"prix_cat\",data=df_graph)\n",
    "plt.title('Diagramme en barre du nombre de pierre selon les categories de prix')\n",
    "plt.xlabel('Nombre de pierre')\n",
    "plt.ylabel('Nombre')\n",
    "plt.show()"
   ]
  },
  {
   "cell_type": "code",
   "execution_count": 0,
   "metadata": {
    "application/vnd.databricks.v1+cell": {
     "inputWidgets": {},
     "nuid": "99b86307-b898-4263-8c56-fb4bbc68a978",
     "showTitle": false,
     "title": ""
    }
   },
   "outputs": [
    {
     "data": {
      "text/html": [
       "<font size=6' color='#884846' face=\"sans-serif\">IV) Modelisation </font>"
      ]
     },
     "metadata": {
      "application/vnd.databricks.v1+output": {
       "addedWidgets": {},
       "arguments": {},
       "data": "<font size=6' color='#884846' face=\"sans-serif\">IV) Modelisation </font>",
       "datasetInfos": [],
       "metadata": {},
       "removedWidgets": [],
       "textData": null,
       "type": "htmlSandbox"
      }
     },
     "output_type": "display_data"
    }
   ],
   "source": [
    "displayHTML(\"\"\"<font size=6' color='#884846' face=\"sans-serif\">IV) Modelisation </font>\"\"\")"
   ]
  },
  {
   "cell_type": "markdown",
   "metadata": {
    "application/vnd.databricks.v1+cell": {
     "inputWidgets": {},
     "nuid": "4f33e246-ebeb-4982-93c0-6948764c7f50",
     "showTitle": false,
     "title": ""
    }
   },
   "source": [
    "Dans cette partie, nous commencerons par transformer nos variables categorielles en variables binaires que nous placerons au sein d'une seule variable. \n",
    "\n",
    "Ensuite, nous allons utiliser un modele logit multiclass et une random forest avec une etape de GridSearchCV afin de regler les hyperparametres du modele. L'objectif est d'ameliorer les performances sur l'echantillon de test par la penalisation."
   ]
  },
  {
   "cell_type": "code",
   "execution_count": 0,
   "metadata": {
    "application/vnd.databricks.v1+cell": {
     "inputWidgets": {},
     "nuid": "88154ae4-6c50-4867-9c5c-663191fb9064",
     "showTitle": false,
     "title": ""
    }
   },
   "outputs": [
    {
     "data": {
      "text/html": [
       "<font size=4' color='#858846' face=\"sans-serif\">Transformation de variables categorielles en variables binaires avant execution du modele </font>"
      ]
     },
     "metadata": {
      "application/vnd.databricks.v1+output": {
       "addedWidgets": {},
       "arguments": {},
       "data": "<font size=4' color='#858846' face=\"sans-serif\">Transformation de variables categorielles en variables binaires avant execution du modele </font>",
       "datasetInfos": [],
       "metadata": {},
       "removedWidgets": [],
       "textData": null,
       "type": "htmlSandbox"
      }
     },
     "output_type": "display_data"
    }
   ],
   "source": [
    "displayHTML(\"\"\"<font size=4' color='#858846' face=\"sans-serif\">Transformation de variables categorielles en variables binaires avant execution du modele </font>\"\"\")"
   ]
  },
  {
   "cell_type": "code",
   "execution_count": 0,
   "metadata": {
    "application/vnd.databricks.v1+cell": {
     "inputWidgets": {},
     "nuid": "36c81a7f-610e-4d6e-abec-80bf7d7cf512",
     "showTitle": false,
     "title": ""
    }
   },
   "outputs": [],
   "source": [
    "#Liste des variables a transformer\n",
    "cols = train.drop(\"prix_cat\").columns\n",
    "\n",
    "#Changement du type des variables categorielles en StringIndexer \n",
    "indexers = [\n",
    "    StringIndexer(inputCol=c, outputCol=\"{0}_indexed\".format(c))\n",
    "    for c in cols\n",
    "]\n",
    "\n",
    "#One-hot-Encoding \n",
    "encoders = [\n",
    "    OneHotEncoder(\n",
    "        inputCol=indexer.getOutputCol(),\n",
    "        outputCol=\"{0}_encoded\".format(indexer.getOutputCol())) \n",
    "    for indexer in indexers\n",
    "]\n",
    "\n",
    "#Placement des dummies au sein d'une variable nommee features \n",
    "assembler = VectorAssembler(\n",
    "    inputCols=[encoder.getOutputCol() for encoder in encoders],\n",
    "    outputCol=\"features\"\n",
    ")\n",
    "\n",
    "#Pipeline permettant d'effectuer plusieurs changements \n",
    "pipeline = Pipeline(stages=indexers + encoders + [assembler])\n",
    "\n",
    "#Changements sur le train \n",
    "train_1 = pipeline.fit(train).transform(train)\n",
    "#Changements sur le test \n",
    "test_1 = pipeline.fit(train).transform(test)"
   ]
  },
  {
   "cell_type": "code",
   "execution_count": 0,
   "metadata": {
    "application/vnd.databricks.v1+cell": {
     "inputWidgets": {},
     "nuid": "028b1ee7-a382-481b-b291-2bbd71b737e7",
     "showTitle": false,
     "title": ""
    }
   },
   "outputs": [
    {
     "data": {
      "text/html": [
       "<font size=4' color='#858846' face=\"sans-serif\">Modele logit </font>"
      ]
     },
     "metadata": {
      "application/vnd.databricks.v1+output": {
       "addedWidgets": {},
       "arguments": {},
       "data": "<font size=4' color='#858846' face=\"sans-serif\">Modele logit </font>",
       "datasetInfos": [],
       "metadata": {},
       "removedWidgets": [],
       "textData": null,
       "type": "htmlSandbox"
      }
     },
     "output_type": "display_data"
    }
   ],
   "source": [
    "displayHTML(\"\"\"<font size=4' color='#858846' face=\"sans-serif\">Modele logit </font>\"\"\")"
   ]
  },
  {
   "cell_type": "code",
   "execution_count": 0,
   "metadata": {
    "application/vnd.databricks.v1+cell": {
     "inputWidgets": {},
     "nuid": "6232e97a-c783-4950-951e-6b379fa7ab2b",
     "showTitle": false,
     "title": ""
    }
   },
   "outputs": [
    {
     "data": {
      "text/plain": [
       "/databricks/spark/python/pyspark/ml/util.py:839: UserWarning: Cannot find mlflow module. To enable MLflow logging, install mlflow from PyPI.\n",
       "  warnings.warn(_MLflowInstrumentation._NO_MLFLOW_WARNING)\n"
      ]
     },
     "metadata": {
      "application/vnd.databricks.v1+output": {
       "addedWidgets": {},
       "arguments": {},
       "data": "/databricks/spark/python/pyspark/ml/util.py:839: UserWarning: Cannot find mlflow module. To enable MLflow logging, install mlflow from PyPI.\n  warnings.warn(_MLflowInstrumentation._NO_MLFLOW_WARNING)\n",
       "datasetInfos": [],
       "metadata": {},
       "removedWidgets": [],
       "type": "ansi"
      }
     },
     "output_type": "display_data"
    }
   ],
   "source": [
    "#Changement de la variable d'interet en StringIndexer\n",
    "labelIndexer = StringIndexer(inputCol=\"prix_cat\", outputCol=\"label\").fit(train_1)\n",
    "\n",
    "#Modele Classifier\n",
    "lr = LogisticRegression(labelCol=\"label\", featuresCol=\"features\")\n",
    "\n",
    "#Pipeline\n",
    "pipeline = Pipeline(stages=[labelIndexer, lr])\n",
    "\n",
    "#Parametres de la GridSearchCV \n",
    "paramGrid = ParamGridBuilder().addGrid(lr.elasticNetParam, [0.01, 0.1, 0.3]).addGrid(lr.maxIter, [10, 50, 100]).build()\n",
    "\n",
    "#GridSearchCV \n",
    "crossval = CrossValidator(estimator=pipeline,\n",
    "                          estimatorParamMaps=paramGrid,\n",
    "                          evaluator=MulticlassClassificationEvaluator(),\n",
    "                          numFolds=5)  \n",
    "\n",
    "#Entrainement du modele \n",
    "model = crossval.fit(train_1)"
   ]
  },
  {
   "cell_type": "code",
   "execution_count": 0,
   "metadata": {
    "application/vnd.databricks.v1+cell": {
     "inputWidgets": {},
     "nuid": "243f30bd-8e24-4f67-a305-7a23ea459f1b",
     "showTitle": false,
     "title": ""
    }
   },
   "outputs": [
    {
     "data": {
      "text/plain": [
       "L'accuracy du modele logit est de = 0.630058 \n"
      ]
     },
     "metadata": {
      "application/vnd.databricks.v1+output": {
       "addedWidgets": {},
       "arguments": {},
       "data": "L'accuracy du modele logit est de = 0.630058 \n",
       "datasetInfos": [],
       "metadata": {},
       "removedWidgets": [],
       "type": "ansi"
      }
     },
     "output_type": "display_data"
    }
   ],
   "source": [
    "#Predictions\n",
    "predictions = model.transform(train_1)\n",
    "\n",
    "#Score final du modele sur l'échantillon de test \n",
    "evaluator = MulticlassClassificationEvaluator(labelCol=\"label\", predictionCol=\"prediction\", metricName=\"accuracy\")\n",
    "accuracy = evaluator.evaluate(predictions)\n",
    "print(\"L'accuracy du modele logit est de = %g \" % (accuracy))"
   ]
  },
  {
   "cell_type": "markdown",
   "metadata": {
    "application/vnd.databricks.v1+cell": {
     "inputWidgets": {},
     "nuid": "8d248521-7cbb-46ee-bb7c-6d01b87acd5b",
     "showTitle": false,
     "title": ""
    }
   },
   "source": [
    "L'accuracy du modele logit est de 63%."
   ]
  },
  {
   "cell_type": "code",
   "execution_count": 0,
   "metadata": {
    "application/vnd.databricks.v1+cell": {
     "inputWidgets": {},
     "nuid": "096f02ce-12a6-4011-ba87-fa4e033b1b7d",
     "showTitle": false,
     "title": ""
    }
   },
   "outputs": [
    {
     "data": {
      "text/html": [
       "<font size=4' color='#858846' face=\"sans-serif\">Modele random forest </font>"
      ]
     },
     "metadata": {
      "application/vnd.databricks.v1+output": {
       "addedWidgets": {},
       "arguments": {},
       "data": "<font size=4' color='#858846' face=\"sans-serif\">Modele random forest </font>",
       "datasetInfos": [],
       "metadata": {},
       "removedWidgets": [],
       "textData": null,
       "type": "htmlSandbox"
      }
     },
     "output_type": "display_data"
    }
   ],
   "source": [
    "displayHTML(\"\"\"<font size=4' color='#858846' face=\"sans-serif\">Modele random forest </font>\"\"\")"
   ]
  },
  {
   "cell_type": "code",
   "execution_count": 0,
   "metadata": {
    "application/vnd.databricks.v1+cell": {
     "inputWidgets": {},
     "nuid": "802d6795-3de6-409c-b2fe-54ef1a96571d",
     "showTitle": false,
     "title": ""
    }
   },
   "outputs": [],
   "source": [
    "#Changement de la variable d'interet en StringIndexer\n",
    "#labelIndexer = StringIndexer(inputCol=\"prix_cat\", outputCol=\"label\").fit(train_1)\n",
    "\n",
    "#Modele Classifier\n",
    "rf = RandomForestClassifier(labelCol=\"label\", featuresCol=\"features\")\n",
    "\n",
    "#Pipeline\n",
    "pipeline = Pipeline(stages=[labelIndexer, rf])\n",
    "\n",
    "#Parametres de la GridSearchCV \n",
    "paramGrid = ParamGridBuilder().addGrid(rf.numTrees, [10, 50, 100]).build()\n",
    "\n",
    "#GridSearchCV \n",
    "crossval = CrossValidator(estimator=pipeline,\n",
    "                          estimatorParamMaps=paramGrid,\n",
    "                          evaluator=MulticlassClassificationEvaluator(),\n",
    "                          numFolds=5)  "
   ]
  },
  {
   "cell_type": "code",
   "execution_count": 0,
   "metadata": {
    "application/vnd.databricks.v1+cell": {
     "inputWidgets": {},
     "nuid": "fad02b24-6274-4c0a-93a7-2e908ee00021",
     "showTitle": false,
     "title": ""
    }
   },
   "outputs": [
    {
     "data": {
      "text/plain": [
       "L'accuracy du modele random forest est de = 0.698896 \n"
      ]
     },
     "metadata": {
      "application/vnd.databricks.v1+output": {
       "addedWidgets": {},
       "arguments": {},
       "data": "L'accuracy du modele random forest est de = 0.698896 \n",
       "datasetInfos": [],
       "metadata": {},
       "removedWidgets": [],
       "type": "ansi"
      }
     },
     "output_type": "display_data"
    }
   ],
   "source": [
    "#Predictions\n",
    "predictions = cvModel.transform(train_1)\n",
    "\n",
    "#Score final du modele sur l'échantillon de test \n",
    "evaluator = MulticlassClassificationEvaluator(labelCol=\"label\", predictionCol=\"prediction\", metricName=\"accuracy\")\n",
    "accuracy = evaluator.evaluate(predictions)\n",
    "print(\"L'accuracy du modele random forest est de = %g \" % (accuracy))"
   ]
  },
  {
   "cell_type": "markdown",
   "metadata": {
    "application/vnd.databricks.v1+cell": {
     "inputWidgets": {},
     "nuid": "07f6f530-ebf1-4b07-8296-af9b4346b1e7",
     "showTitle": false,
     "title": ""
    }
   },
   "source": [
    "L'accuracy du modele random est de 70%. Cela signifie que le modele ne predit pas la bonne classe de prix dans 30% des cas."
   ]
  },
  {
   "cell_type": "markdown",
   "metadata": {
    "application/vnd.databricks.v1+cell": {
     "inputWidgets": {},
     "nuid": "3393505a-cef0-4683-ac94-1ffde08d1701",
     "showTitle": false,
     "title": ""
    }
   },
   "source": [
    "#CONCLUSION\n",
    "\n",
    "\n",
    "- Dans un notebook python, nous avons webscape le site Histoire d'Or afin d'obtenir une base de donnees regroupant les articles pour femmes. \n",
    "- Au sein de ce notebook, nous avons forme la base de donnees et procede a des analyses statistiques. \n",
    "- La derniere etape de ce notebook consiste a former deux modeles de Machine Learning (classifiction supervise) afin de predire la categorie de prix des articles. \n",
    "- Finalement, le modele random forest a la meilleure capacite predictive. Il permet de predire la bonne classe de prix pour 70% des articles. \n",
    "- Nous allons proposer une comparaison de ces deux modeles avec la librairie sklearn de python afin de comparer les resultats."
   ]
  }
 ],
 "metadata": {
  "application/vnd.databricks.v1+notebook": {
   "dashboards": [],
   "language": "python",
   "notebookMetadata": {
    "pythonIndentUnit": 4
   },
   "notebookName": "Projet_python_avance",
   "notebookOrigID": 865300488025139,
   "widgets": {}
  },
  "kernelspec": {
   "display_name": "Python 3 (ipykernel)",
   "language": "python",
   "name": "python3"
  },
  "language_info": {
   "codemirror_mode": {
    "name": "ipython",
    "version": 3
   },
   "file_extension": ".py",
   "mimetype": "text/x-python",
   "name": "python",
   "nbconvert_exporter": "python",
   "pygments_lexer": "ipython3",
   "version": "3.9.7"
  }
 },
 "nbformat": 4,
 "nbformat_minor": 1
}
